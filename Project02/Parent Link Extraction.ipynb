{
 "cells": [
  {
   "cell_type": "code",
   "execution_count": null,
   "id": "limited-payday",
   "metadata": {},
   "outputs": [],
   "source": [
    "# importing the required modules\n",
    "import requests\n",
    "from bs4 import BeautifulSoup\n",
    "import pandas as pd\n",
    "from selenium import webdriver\n",
    "\n",
    "url = \"https://class101.net/creative\"\n",
    "base = \"https://class101.net\"\n",
    "res = requests.get(url)\n",
    "soup = BeautifulSoup(res.text, 'html.parser')\n",
    "tab_links = soup.find_all('a', class_=[\"NavigationTab__Tab-sc-1sw30ay-1\", \"fKOHkt\"])\n",
    "tabs = []\n",
    "for i in range(1, len(tab_links)-1):\n",
    "    tabs.append(base+(tab_links[i].attrs['href']))\n",
    "    \n",
    "for j  in tabs:\n",
    "    ntabs = tabs[:5]\n",
    "    l = []\n",
    "for i in ntabs:\n",
    "    l.append(i)\n",
    "df = pd.DataFrame(l)\n",
    "df.to_csv(\"parent_links.csv\")"
   ]
  },
  {
   "cell_type": "code",
   "execution_count": 2,
   "id": "unlikely-music",
   "metadata": {},
   "outputs": [
    {
     "data": {
      "text/plain": [
       "['https://class101.net/creative',\n",
       " 'https://class101.net/money',\n",
       " 'https://class101.net/career',\n",
       " 'https://class101.net/kids',\n",
       " 'https://class101.net/signature']"
      ]
     },
     "execution_count": 2,
     "metadata": {},
     "output_type": "execute_result"
    }
   ],
   "source": [
    "l"
   ]
  },
  {
   "cell_type": "code",
   "execution_count": null,
   "id": "fallen-navigation",
   "metadata": {},
   "outputs": [],
   "source": []
  }
 ],
 "metadata": {
  "kernelspec": {
   "display_name": "Python 3",
   "language": "python",
   "name": "python3"
  },
  "language_info": {
   "codemirror_mode": {
    "name": "ipython",
    "version": 3
   },
   "file_extension": ".py",
   "mimetype": "text/x-python",
   "name": "python",
   "nbconvert_exporter": "python",
   "pygments_lexer": "ipython3",
   "version": "3.8.6"
  }
 },
 "nbformat": 4,
 "nbformat_minor": 5
}
