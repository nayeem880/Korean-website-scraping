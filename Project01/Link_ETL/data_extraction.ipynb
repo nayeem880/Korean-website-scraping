{
 "cells": [
  {
   "cell_type": "code",
   "execution_count": 6,
   "id": "generic-chassis",
   "metadata": {
    "scrolled": true
   },
   "outputs": [
    {
     "data": {
      "text/plain": [
       "['https://m.kin.naver.com/profile/index.nhn?u=3Bvy0VqcKnrNRX4YO%2Fa%2BP7ttjfLnqnkC%2FDuEsDIT4S0%3D',\n",
       " 'https://m.kin.naver.com/profile/index.nhn?u=zvRvZSrTBCeYUJjRbEc5OKhzAkyWWga1TYilww4ty7Y%3D',\n",
       " 'https://m.kin.naver.com/profile/index.nhn?u=oKeZbnqDVWx5jsdibq4d1jtip14PI8FngE21p0pVDzE%3D',\n",
       " 'https://m.kin.naver.com/profile/index.nhn?u=WkbFz5ahgf%2BXv5lZQmIlFCGBxzU1D27QZrWw6mJbLQE%3D',\n",
       " 'https://m.kin.naver.com/profile/index.nhn?u=e5aJmbeT9UjA3KR5jhVy8TDsLAz%2B4%2BgyUz8MUwM%2FG8M%3D',\n",
       " 'https://m.kin.naver.com/profile/index.nhn?u=WK98lR8DRpn%2FLLywxgaB0212FN0EJLGFtlWJJWbR4o4%3D',\n",
       " 'https://m.kin.naver.com/profile/index.nhn?u=SbT2p9Ppk9cNV%2FZVxO77eQmi4l6DvTV0la%2FRK3scqco%3D',\n",
       " 'https://m.kin.naver.com/profile/index.nhn?u=nAVNYg%2FFjPFN%2BpRS%2Fm3pDV3tbZPaThbGt%2BiDng1DS%2Bk%3D',\n",
       " 'https://m.kin.naver.com/profile/index.nhn?u=RjMOip8ykso5IMKvoXSV26u4w3J6UU0XpN93iH%2Fit24%3D',\n",
       " 'https://m.kin.naver.com/profile/index.nhn?u=HpCgShzsisofg7hsSczP3Hv8XqeYjQo2fZ4ezsPahU8%3D',\n",
       " 'https://m.kin.naver.com/profile/index.nhn?u=178cUY3BLVoMV1G3V62JO0y0ZINNKvqWNGQzEBkHELk%3D',\n",
       " 'https://m.kin.naver.com/profile/index.nhn?u=nmhsnqVC%2FJ4F6hjOWSpOphWJoGSNn5cvQohXLvpJSK8%3D',\n",
       " 'https://m.kin.naver.com/profile/index.nhn?u=IEJfixy5xf9E9hN8aZUoc0jb5nhxu7o0h5aTND0ntdM%3D',\n",
       " 'https://m.kin.naver.com/profile/index.nhn?u=0PROEEolqD2dRPFSZkG%2Bd1gRosREjHKg3xjBfutpd5c%3D',\n",
       " 'https://m.kin.naver.com/profile/index.nhn?u=8qVqouQimqlq71FSqvkkjChVD0yhbgPrmirxw%2B%2BXBrw%3D',\n",
       " 'https://m.kin.naver.com/profile/index.nhn?u=egsiNS3K7vozBSbVA4W0dhZkPp6NGEso6RinTixPoD8%3D',\n",
       " 'https://m.kin.naver.com/profile/index.nhn?u=wH93VVyKIicVd9k7zO7uJfqIOgl8qxEuDXv16%2B4sFMk%3D',\n",
       " 'https://m.kin.naver.com/profile/index.nhn?u=Yz6hD2RMD4hgh%2Bgj9929AD869qJyJ3CotocJSpa4LZQ%3D',\n",
       " 'https://m.kin.naver.com/profile/index.nhn?u=pHFupK61jnLmA88U1NeNiV6McxwtYJmckmKB4bdiXD8%3D',\n",
       " 'https://m.kin.naver.com/profile/index.nhn?u=BQX96gkjzpcZF6cOwsz1ZnICGBkD3NPs%2FMnKyJ56IXc%3D',\n",
       " 'https://m.kin.naver.com/profile/index.nhn?u=tO%2Boh1m%2FgUXlckiVU1TbG5dlso0qbTcFL453yObLw2M%3D',\n",
       " 'https://m.kin.naver.com/profile/index.nhn?u=ctEWFlZtnpQguMOl4n4wbIoaKEXgkEW677G6bzef3MA%3D',\n",
       " 'https://m.kin.naver.com/profile/index.nhn?u=XAfmgmus%2BtKQR9x5nwenTJDtFJzPCDT0c%2Bz8bWZ%2Bzx8%3D',\n",
       " 'https://m.kin.naver.com/profile/index.nhn?u=zEzwIZaTEFM7%2BwQ0e1Su8pLucAnPvKv%2FzmyLypUQ6DM%3D',\n",
       " 'https://m.kin.naver.com/profile/index.nhn?u=83l2TPwHZQr9Qf%2BfxD9s636KC7xI5%2BBMvhwNkHf4mME%3D',\n",
       " 'https://m.kin.naver.com/profile/index.nhn?u=Pra%2BiAoxCQ%2F6GVy1e286iE68LcPWFOfUWBpa0BBgmVg%3D',\n",
       " 'https://m.kin.naver.com/profile/index.nhn?u=iaiI3l6ROQn7O6tYMMmJ2yUGdj8Y2BBNWNR6yBHGoMQ%3D',\n",
       " 'https://m.kin.naver.com/profile/index.nhn?u=0geceh8ahMGuEGuj71AOtJe7ovDnlTyrQ2Fv0L4sKQo%3D',\n",
       " 'https://m.kin.naver.com/profile/index.nhn?u=TQ0bdAyZHtw%2BZ4l0te0Q7p3j5l5TllVX9%2BI81JPpo5w%3D',\n",
       " 'https://m.kin.naver.com/profile/index.nhn?u=8%2BeTRqTCEPiTaZsAwQlLqhvlXEUuaDOMn%2FRkXSsVRfs%3D',\n",
       " 'https://m.kin.naver.com/profile/index.nhn?u=3hebQEIxs7pXUUqKTYl7%2BVGJnEmorTS0z0d200xaFuQ%3D',\n",
       " 'https://m.kin.naver.com/profile/index.nhn?u=FboSAcMabczB7S23IAli3TWKO4wE2jC9cw1c86tKz30%3D',\n",
       " 'https://m.kin.naver.com/profile/index.nhn?u=uEhsph9jeJWrT7vccR9886JGCkm%2FTM5AH0SfNQp108Q%3D',\n",
       " 'https://m.kin.naver.com/profile/index.nhn?u=XwVjpEIawkpG6e3tYmLHDJqwWBB9ZUAzU2k%2FRt131Kk%3D',\n",
       " 'https://m.kin.naver.com/profile/index.nhn?u=pF%2FGCPOB105QVe8D%2B7sHdlgr%2Bn2AjL9Mys%2FdCTbqaGo%3D',\n",
       " 'https://m.kin.naver.com/profile/index.nhn?u=DdPoBD3TCtR%2FI72PjxY9Yj0qx24D59aKlu9X4rWSs00%3D',\n",
       " 'https://m.kin.naver.com/profile/index.nhn?u=%2Fa%2BOzkB2ETKVTbZjXFldeO7fWV0ccXxfzwDf0jYL76g%3D',\n",
       " 'https://m.kin.naver.com/profile/index.nhn?u=pHxibYxLnifDamB8djlBlkuO8jPKT%2FR8mhjkNip3sNI%3D',\n",
       " 'https://m.kin.naver.com/profile/index.nhn?u=0oDxA1YQ3mNelUJZkJUdlyRqFKJege3R6HT3Nqtc5wk%3D',\n",
       " 'https://m.kin.naver.com/profile/index.nhn?u=dcWYW1dLDoAnZIrxCH7Y2CcCPyyso%2FsfWvXrtd%2F9nz0%3D',\n",
       " 'https://m.kin.naver.com/profile/index.nhn?u=0LWe5LVBhhchwUcm3Z9QOK%2Fm3GWYYOJSHO1YVCOwG%2BE%3D',\n",
       " 'https://m.kin.naver.com/profile/index.nhn?u=HJMUn1YLYeezs%2Fq6Khz50f5rznYtuiSMl4SCTyDkRsM%3D',\n",
       " 'https://m.kin.naver.com/profile/index.nhn?u=aGJv16EHAz%2FXqAzrNNE6PlWfLy6f3PaCaT2BV8LniFI%3D',\n",
       " 'https://m.kin.naver.com/profile/index.nhn?u=4EJBpHdr4quXVghxJxidpJPQoOs4UBN2gzLFFEalYDA%3D',\n",
       " 'https://m.kin.naver.com/profile/index.nhn?u=osJsF6asz6NbDRx1F%2Ben3PpKFC6IETtn1MNMm%2BPxk7Y%3D',\n",
       " 'https://m.kin.naver.com/profile/index.nhn?u=BOyZZzfvwYwib%2Fg304knt0tvI3zCDmcEgYO5%2F4cibbY%3D',\n",
       " 'https://m.kin.naver.com/profile/index.nhn?u=74rHST2q3F0MphlJCQxHgSnOsMDqnA1gwRsBQErD4eo%3D',\n",
       " 'https://m.kin.naver.com/profile/index.nhn?u=uCuG9FusgXyKdEakJLvRt5IUS7%2Bwp5fkGIJeh%2FbEbiY%3D',\n",
       " 'https://m.kin.naver.com/profile/index.nhn?u=9f1wWrj3%2FjXwy3HuIBHIjR%2BCdSyQyMftbLww5ZBPPec%3D',\n",
       " 'https://m.kin.naver.com/profile/index.nhn?u=ux0gOXZh7XHCfNV20hX6zlMX2gnr899avMOTuVgor2s%3D',\n",
       " 'https://m.kin.naver.com/profile/index.nhn?u=7TTl7%2FL5GI2M4AQYe8ts18dTLpU2EV9vanC1SijTpQI%3D',\n",
       " 'https://m.kin.naver.com/profile/index.nhn?u=GODkpgzwXDniS9RMYsldgZjFF6soUU6MIWlFCJlH024%3D',\n",
       " 'https://m.kin.naver.com/profile/index.nhn?u=n0wcxM6zY%2BpK%2F9k%2FQPGCOt0NRsXu7UnyzB99IzPqPqw%3D',\n",
       " 'https://m.kin.naver.com/profile/index.nhn?u=m7cXQPFUx0b9lm4K%2BMRKr4Xy097izYGlcurmp%2Bbr2ok%3D',\n",
       " 'https://m.kin.naver.com/profile/index.nhn?u=cbkheF9mUbVMHxs6iP9zHq4h1seM5Ayd4oyeyga39Kw%3D',\n",
       " 'https://m.kin.naver.com/profile/index.nhn?u=G%2F0JAtYah%2BlnbpQb7floAz8EymUC7C5%2F4nj%2B3eZNxUM%3D',\n",
       " 'https://m.kin.naver.com/profile/index.nhn?u=j52%2FsyUtuGTlor9uh7zZeKwZRVp1QIzLo2lLY%2B%2F5Mas%3D',\n",
       " 'https://m.kin.naver.com/profile/index.nhn?u=OGVDoLwn3IPQly2QSFbJGBUIElmcO2EZrzxLlTdwA4A%3D',\n",
       " 'https://m.kin.naver.com/profile/index.nhn?u=ruOB2fpqfh2GpToKC8BFg9Ofu28LC2HeMU7oIBDfcQc%3D',\n",
       " 'https://m.kin.naver.com/profile/index.nhn?u=i8FVdSvmcAmHUO3NHgcw14FpWE6BUopt8Bh9Lz5Ut8o%3D']"
      ]
     },
     "execution_count": 6,
     "metadata": {},
     "output_type": "execute_result"
    }
   ],
   "source": [
    "import requests\n",
    "from bs4 import BeautifulSoup\n",
    "import pandas as pd\n",
    "from selenium import webdriver\n",
    "\n",
    "import time\n",
    "\n",
    "df = pd.read_csv('profile_links.csv')\n",
    "li = list(df[\"0\"])"
   ]
  },
  {
   "cell_type": "code",
   "execution_count": 46,
   "id": "ordered-howard",
   "metadata": {},
   "outputs": [
    {
     "name": "stdout",
     "output_type": "stream",
     "text": [
      "<generator object Tag.descendants at 0x05548258>\n",
      "<generator object Tag.descendants at 0x05548258>\n",
      "<generator object Tag.descendants at 0x05548258>\n",
      "['이재용', '손해배상', '교통사고', '형사사건', '평균 평점4.9', '713', '932']\n"
     ]
    }
   ],
   "source": [
    "user = []\n",
    "\n",
    "for i in range(1):\n",
    "#     print(\"Serial :,\"i)\n",
    "    url = li[1]\n",
    "    driver = webdriver.Chrome(r'C:\\Users\\USER\\chromedriver_win32\\chromedriver.exe')\n",
    "    driver.get(url)\n",
    "    time.sleep(3)\n",
    "    source_code = driver.page_source\n",
    "    soup = BeautifulSoup(source_code, 'html.parser')\n",
    "    name = soup.find_all('strong', class_ = 'userName--1ZA07')\n",
    "    for n in name:\n",
    "        user.append(n.text)\n",
    "    sp = soup.find_all('div', class_ = 'categoryName--1zWtA')\n",
    "    for m in sp:\n",
    "        user.append(m.text)\n",
    "    rating = soup.find_all('div', class_ = 'itemRating--360UA itemRating--2-rFv typeLarge--1cEMN')\n",
    "    for k in rating:\n",
    "        user.append(k.text)\n",
    "    reviews = soup.find_all('span', class_ = 'statsNum--32OX2')\n",
    "    for kk in reviews:\n",
    "        user.append(kk.text)\n",
    "        \n",
    "    ptitle = soup.find_all('div', class_ = 'text--205Rw')\n",
    "    ptitle_number = soup.find_all('div', class_ = 'count--2w5o6') \n",
    "    for p in ptitle:\n",
    "        print(p.descendants)\n",
    "#         user.append(p.children.text) \n",
    "#     for q in ptitle_number:\n",
    "#         user.append(q.children.text)\n",
    "#     try:  \n",
    "#         path = u\"//a[@class='pageLink']\"\n",
    "#         driver.find_element_by_xpath(path).click()\n",
    "#     except:\n",
    "#         pass\n",
    "\n",
    "    driver.quit()\n",
    "        \n",
    "print(user)"
   ]
  },
  {
   "cell_type": "code",
   "execution_count": null,
   "id": "allied-planner",
   "metadata": {},
   "outputs": [],
   "source": []
  },
  {
   "cell_type": "code",
   "execution_count": null,
   "id": "ignored-consultation",
   "metadata": {},
   "outputs": [],
   "source": []
  },
  {
   "cell_type": "code",
   "execution_count": null,
   "id": "directed-metropolitan",
   "metadata": {},
   "outputs": [],
   "source": []
  },
  {
   "cell_type": "code",
   "execution_count": null,
   "id": "constant-practice",
   "metadata": {},
   "outputs": [],
   "source": []
  },
  {
   "cell_type": "code",
   "execution_count": null,
   "id": "academic-blast",
   "metadata": {},
   "outputs": [],
   "source": []
  },
  {
   "cell_type": "code",
   "execution_count": null,
   "id": "latest-cabin",
   "metadata": {},
   "outputs": [],
   "source": []
  }
 ],
 "metadata": {
  "kernelspec": {
   "display_name": "Python 3",
   "language": "python",
   "name": "python3"
  },
  "language_info": {
   "codemirror_mode": {
    "name": "ipython",
    "version": 3
   },
   "file_extension": ".py",
   "mimetype": "text/x-python",
   "name": "python",
   "nbconvert_exporter": "python",
   "pygments_lexer": "ipython3",
   "version": "3.8.6"
  }
 },
 "nbformat": 4,
 "nbformat_minor": 5
}
