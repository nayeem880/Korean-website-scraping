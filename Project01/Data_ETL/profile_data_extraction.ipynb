{
 "cells": [
  {
   "cell_type": "code",
   "execution_count": 393,
   "id": "widespread-interval",
   "metadata": {},
   "outputs": [
    {
     "name": "stdout",
     "output_type": "stream",
     "text": [
      "Serial : 0\n",
      "https://m.kin.naver.com/profile/index.nhn?u=zvRvZSrTBCeYUJjRbEc5OKhzAkyWWga1TYilww4ty7Y%3D\n",
      "here\n",
      "here 1\n",
      "here 2\n",
      "3\n",
      "715\n",
      "here 3\n",
      "here 5\n"
     ]
    }
   ],
   "source": [
    "# importing the required modules\n",
    "import requests\n",
    "from bs4 import BeautifulSoup\n",
    "import pandas as pd\n",
    "from selenium import webdriver\n",
    "import time\n",
    "\n",
    "df = pd.read_csv('../Data/profile_links.csv')\n",
    "df[\"0\"]\n",
    "pl = list(df[\"0\"])\n",
    "\n",
    "\n",
    "all_user = []\n",
    "for i in range(1):\n",
    "    one_user = []\n",
    "    print(\"Serial :\",i)\n",
    "    url = pl[1]\n",
    "    print(url)\n",
    "    driver = webdriver.Chrome(r'C:\\Users\\USER\\chromedriver_win32\\chromedriver.exe')\n",
    "    driver.get(url)\n",
    "    time.sleep(3)\n",
    "    print(\"here\")\n",
    "    \n",
    "    \n",
    "    #basic informations\n",
    "    basic = []\n",
    "    source_code = driver.page_source\n",
    "    soup = BeautifulSoup(source_code, 'html.parser')\n",
    "    name = soup.find_all('strong', class_ = 'userName--1ZA07')\n",
    "    for n in name:\n",
    "        basic.append(n.text)\n",
    "    sp = soup.find_all('div', class_ = 'categoryName--1zWtA')\n",
    "    for m in sp:\n",
    "        basic.append(m.text)\n",
    "    rating = soup.find_all('div', class_ = 'itemRating--360UA itemRating--2-rFv typeLarge--1cEMN')\n",
    "    for k in rating:\n",
    "        basic.append(k.text)\n",
    "    reviews = soup.find_all('span', class_ = 'statsNum--32OX2')\n",
    "    for kk in reviews:\n",
    "        basic.append(kk.text)\n",
    "    print(\"here 1\")\n",
    "    \n",
    "    \n",
    "    ### Project data for one user\n",
    "    maininfo = []\n",
    "    infos = soup.find_all('ul', class_ = 'productInfoList--1-H-D')\n",
    "    for f in infos:   \n",
    "        li = f.find_all('li')\n",
    "        for ll in li:\n",
    "            uh = [\"대표자\",\"상호명\",\"사업자등록번호\",\"통신판매업번호-\", \"사업장 주소\", \"고객센터\",'메일']\n",
    "            for u in range(len(uh)):\n",
    "                if uh[u] in ll.text:\n",
    "                    b = uh[u]\n",
    "                    la = ll.text\n",
    "                    maininfo.append(la.replace(b , \"\"))   \n",
    "    \n",
    "    print(\"here 2\")\n",
    "    \n",
    "    \n",
    "    #count product and review section\n",
    "    products = []\n",
    "    tt = soup.find_all('div', class_ = \"list--e6w5E\")\n",
    "    for t in tt:  \n",
    "        cc = t.find_all('div', class_='count--2w5o6')\n",
    "        for cd in cc:\n",
    "            cd.find_all('div', class_ = \"count--2w5o6\")\n",
    "            ce = cd.text\n",
    "            print(ce)\n",
    "            products.append(ce)\n",
    "            \n",
    "    print(\"here 3\")\n",
    "            \n",
    "    ### Project data for one user\n",
    "    \n",
    "    projects = soup.find_all('div', class_ = 'listArea--peDdh')\n",
    "#   projects  and consultations \n",
    "    all_project = []\n",
    "    for y in projects:\n",
    "        one = []\n",
    "        yy = y.find_all('div', class_ = 'item--1ZJSx')\n",
    "        for t in yy:\n",
    "            project_item = []\n",
    "            tdiv = t.find_all('div', class_ =['itemTitle--2vWBq','elip2--nFWXY'])\n",
    "            for td in tdiv:\n",
    "                project_title = td.text\n",
    "                project_item.append(project_title)\n",
    "\n",
    "            ratdiv = t.find_all('div', class_ =['itemGroup--2RnIL','ItemGroup_itemGroup--1f-on'])\n",
    "            for rd in ratdiv:\n",
    "                rating = rd.text\n",
    "                project_item.append(rating)\n",
    "\n",
    "            feediv = t.find_all('span', class_ =['priceInner--1HE2v'])\n",
    "            for fd in feediv:\n",
    "                fee = fd.text\n",
    "                project_item.append(fee)\n",
    "            one.append([*project_item])   \n",
    "        all_project.append([*one])\n",
    "    p = []\n",
    "    for i in range(len(all_project)):\n",
    "        data = all_project[i]\n",
    "        for j in range(len(data)):\n",
    "            dj = data[j]\n",
    "            for k in range(len(dj)):\n",
    "                bb = dj[k]\n",
    "                p.append(bb)   \n",
    "    #review object\n",
    "    rdiv = soup.find_all('div', class_ = \"listSection--kViCl\")\n",
    "    reviews_rating = []\n",
    "    reviews_heading = []\n",
    "    reviews_text = []\n",
    "\n",
    "    for eachr in rdiv:\n",
    "        ee = eachr.find_all('div', class_ = \"reviewItem--1OwNO\")\n",
    "        for each in ee:\n",
    "            rating = each.find_all('div', class_ = [\"expertPoint--2Zrvr\",\"expertPoint--13H3V\"])\n",
    "            for r in rating:\n",
    "                reviews_rating.append(r.text)\n",
    "\n",
    "            head = each.find_all('div', class_ = \"reviewTitle--qv3Pk\")\n",
    "            for r in head:\n",
    "                reviews_heading.append(r.text)\n",
    "\n",
    "            commentdiv = each.find_all('p', class_ = \"reviewText--28mzN\")\n",
    "            for ecom in commentdiv:\n",
    "                reviews_text.append(ecom.text)\n",
    "\n",
    "    review_obj = []\n",
    "    for i in range(len(reviews_heading)):\n",
    "        review_obj.append(reviews_heading[i])\n",
    "        review_obj.append(reviews_rating[i])\n",
    "        review_obj.append(reviews_text[i])\n",
    "\n",
    "    #final works  \n",
    "    print(\"here 5\")\n",
    "    all_user.append([url,*basic, *maininfo, *products, *p, *review_obj ])    \n",
    "    driver.quit()"
   ]
  },
  {
   "cell_type": "code",
   "execution_count": 394,
   "id": "isolated-spokesman",
   "metadata": {
    "scrolled": true
   },
   "outputs": [
    {
     "data": {
      "text/plain": [
       "[['https://m.kin.naver.com/profile/index.nhn?u=zvRvZSrTBCeYUJjRbEc5OKhzAkyWWga1TYilww4ty7Y%3D',\n",
       "  '이재용',\n",
       "  '손해배상',\n",
       "  '교통사고',\n",
       "  '형사사건',\n",
       "  '평균 평점4.9',\n",
       "  '715',\n",
       "  '934',\n",
       "  '이재용',\n",
       "  'JY법률사무소',\n",
       "  '128-32-34769',\n",
       "  '',\n",
       "  '(우:06647) 서울특별시 서초구 서초대로 254 (서초동, 오퓨런스) 14층',\n",
       "  '025824833',\n",
       "  'wjdgml1278@naver.com',\n",
       "  '3',\n",
       "  '715',\n",
       "  '신속하고 정확한 형사사건 법률상담',\n",
       "  '평균 평점4.9후기391',\n",
       "  '판매가10,000원할인률75%할인 전 가격40,000',\n",
       "  '성범죄 상담',\n",
       "  '평균 평점4.9후기232',\n",
       "  '판매가10,000원할인률75%할인 전 가격40,000',\n",
       "  '명쾌하고 꼼꼼한 20분 심층 전화상담',\n",
       "  '평균 평점4.8후기92',\n",
       "  '판매가20,000원할인률60%할인 전 가격50,000',\n",
       "  '성범죄 상담',\n",
       "  '평점5',\n",
       "  '늦은시간에다 억울함에 말도 더듬게 되고 화가 치밀어오르는데 차분하게 이야기 들어주시고 상담해주셔서 감사합니다 정말 억울한 상황 풀고 싶습니다 감사합니다',\n",
       "  '성범죄 상담',\n",
       "  '평점5',\n",
       "  '늦은시간에 상담감사합니다 ',\n",
       "  '성범죄 상담',\n",
       "  '평점5',\n",
       "  '빠르게 제가 궁금한 부분에 대해서 설명해주십니다!']]"
      ]
     },
     "execution_count": 394,
     "metadata": {},
     "output_type": "execute_result"
    }
   ],
   "source": [
    "all_user"
   ]
  },
  {
   "cell_type": "code",
   "execution_count": null,
   "id": "peripheral-falls",
   "metadata": {},
   "outputs": [],
   "source": []
  },
  {
   "cell_type": "code",
   "execution_count": null,
   "id": "limited-seeking",
   "metadata": {},
   "outputs": [],
   "source": []
  },
  {
   "cell_type": "code",
   "execution_count": 395,
   "id": "digital-darwin",
   "metadata": {
    "collapsed": true
   },
   "outputs": [
    {
     "data": {
      "text/html": [
       "<div>\n",
       "<style scoped>\n",
       "    .dataframe tbody tr th:only-of-type {\n",
       "        vertical-align: middle;\n",
       "    }\n",
       "\n",
       "    .dataframe tbody tr th {\n",
       "        vertical-align: top;\n",
       "    }\n",
       "\n",
       "    .dataframe thead th {\n",
       "        text-align: right;\n",
       "    }\n",
       "</style>\n",
       "<table border=\"1\" class=\"dataframe\">\n",
       "  <thead>\n",
       "    <tr style=\"text-align: right;\">\n",
       "      <th></th>\n",
       "      <th>0</th>\n",
       "      <th>1</th>\n",
       "      <th>2</th>\n",
       "      <th>3</th>\n",
       "      <th>4</th>\n",
       "      <th>5</th>\n",
       "      <th>6</th>\n",
       "      <th>7</th>\n",
       "      <th>8</th>\n",
       "      <th>9</th>\n",
       "      <th>...</th>\n",
       "      <th>25</th>\n",
       "      <th>26</th>\n",
       "      <th>27</th>\n",
       "      <th>28</th>\n",
       "      <th>29</th>\n",
       "      <th>30</th>\n",
       "      <th>31</th>\n",
       "      <th>32</th>\n",
       "      <th>33</th>\n",
       "      <th>34</th>\n",
       "    </tr>\n",
       "  </thead>\n",
       "  <tbody>\n",
       "    <tr>\n",
       "      <th>0</th>\n",
       "      <td>https://m.kin.naver.com/profile/index.nhn?u=zv...</td>\n",
       "      <td>이재용</td>\n",
       "      <td>손해배상</td>\n",
       "      <td>교통사고</td>\n",
       "      <td>형사사건</td>\n",
       "      <td>평균 평점4.9</td>\n",
       "      <td>715</td>\n",
       "      <td>934</td>\n",
       "      <td>이재용</td>\n",
       "      <td>JY법률사무소</td>\n",
       "      <td>...</td>\n",
       "      <td>판매가20,000원할인률60%할인 전 가격50,000</td>\n",
       "      <td>성범죄 상담</td>\n",
       "      <td>평점5</td>\n",
       "      <td>늦은시간에다 억울함에 말도 더듬게 되고 화가 치밀어오르는데 차분하게 이야기 들어주시...</td>\n",
       "      <td>성범죄 상담</td>\n",
       "      <td>평점5</td>\n",
       "      <td>늦은시간에 상담감사합니다</td>\n",
       "      <td>성범죄 상담</td>\n",
       "      <td>평점5</td>\n",
       "      <td>빠르게 제가 궁금한 부분에 대해서 설명해주십니다!</td>\n",
       "    </tr>\n",
       "  </tbody>\n",
       "</table>\n",
       "<p>1 rows × 35 columns</p>\n",
       "</div>"
      ],
      "text/plain": [
       "                                                  0    1     2     3     4   \\\n",
       "0  https://m.kin.naver.com/profile/index.nhn?u=zv...  이재용  손해배상  교통사고  형사사건   \n",
       "\n",
       "         5    6    7    8        9   ...                             25  \\\n",
       "0  평균 평점4.9  715  934  이재용  JY법률사무소  ...  판매가20,000원할인률60%할인 전 가격50,000   \n",
       "\n",
       "       26   27                                                 28      29  \\\n",
       "0  성범죄 상담  평점5  늦은시간에다 억울함에 말도 더듬게 되고 화가 치밀어오르는데 차분하게 이야기 들어주시...  성범죄 상담   \n",
       "\n",
       "    30              31      32   33                           34  \n",
       "0  평점5  늦은시간에 상담감사합니다   성범죄 상담  평점5  빠르게 제가 궁금한 부분에 대해서 설명해주십니다!  \n",
       "\n",
       "[1 rows x 35 columns]"
      ]
     },
     "execution_count": 395,
     "metadata": {},
     "output_type": "execute_result"
    }
   ],
   "source": [
    "test = pd.DataFrame(all_user)\n",
    "test"
   ]
  },
  {
   "cell_type": "code",
   "execution_count": 401,
   "id": "extreme-coordinator",
   "metadata": {
    "scrolled": true
   },
   "outputs": [
    {
     "data": {
      "text/html": [
       "<div>\n",
       "<style scoped>\n",
       "    .dataframe tbody tr th:only-of-type {\n",
       "        vertical-align: middle;\n",
       "    }\n",
       "\n",
       "    .dataframe tbody tr th {\n",
       "        vertical-align: top;\n",
       "    }\n",
       "\n",
       "    .dataframe thead th {\n",
       "        text-align: right;\n",
       "    }\n",
       "</style>\n",
       "<table border=\"1\" class=\"dataframe\">\n",
       "  <thead>\n",
       "    <tr style=\"text-align: right;\">\n",
       "      <th></th>\n",
       "      <th>0</th>\n",
       "    </tr>\n",
       "  </thead>\n",
       "  <tbody>\n",
       "    <tr>\n",
       "      <th>0</th>\n",
       "      <td>https://m.kin.naver.com/profile/index.nhn?u=zv...</td>\n",
       "    </tr>\n",
       "    <tr>\n",
       "      <th>1</th>\n",
       "      <td>이재용</td>\n",
       "    </tr>\n",
       "    <tr>\n",
       "      <th>2</th>\n",
       "      <td>손해배상</td>\n",
       "    </tr>\n",
       "    <tr>\n",
       "      <th>3</th>\n",
       "      <td>교통사고</td>\n",
       "    </tr>\n",
       "    <tr>\n",
       "      <th>4</th>\n",
       "      <td>형사사건</td>\n",
       "    </tr>\n",
       "    <tr>\n",
       "      <th>5</th>\n",
       "      <td>평균 평점4.9</td>\n",
       "    </tr>\n",
       "    <tr>\n",
       "      <th>6</th>\n",
       "      <td>715</td>\n",
       "    </tr>\n",
       "    <tr>\n",
       "      <th>7</th>\n",
       "      <td>934</td>\n",
       "    </tr>\n",
       "    <tr>\n",
       "      <th>8</th>\n",
       "      <td>이재용</td>\n",
       "    </tr>\n",
       "    <tr>\n",
       "      <th>9</th>\n",
       "      <td>JY법률사무소</td>\n",
       "    </tr>\n",
       "    <tr>\n",
       "      <th>10</th>\n",
       "      <td>128-32-34769</td>\n",
       "    </tr>\n",
       "    <tr>\n",
       "      <th>11</th>\n",
       "      <td></td>\n",
       "    </tr>\n",
       "    <tr>\n",
       "      <th>12</th>\n",
       "      <td>(우:06647) 서울특별시 서초구 서초대로 254 (서초동, 오퓨런스) 14층</td>\n",
       "    </tr>\n",
       "    <tr>\n",
       "      <th>13</th>\n",
       "      <td>025824833</td>\n",
       "    </tr>\n",
       "    <tr>\n",
       "      <th>14</th>\n",
       "      <td>wjdgml1278@naver.com</td>\n",
       "    </tr>\n",
       "    <tr>\n",
       "      <th>15</th>\n",
       "      <td>3</td>\n",
       "    </tr>\n",
       "    <tr>\n",
       "      <th>16</th>\n",
       "      <td>715</td>\n",
       "    </tr>\n",
       "    <tr>\n",
       "      <th>17</th>\n",
       "      <td>신속하고 정확한 형사사건 법률상담</td>\n",
       "    </tr>\n",
       "    <tr>\n",
       "      <th>18</th>\n",
       "      <td>평균 평점4.9후기391</td>\n",
       "    </tr>\n",
       "    <tr>\n",
       "      <th>19</th>\n",
       "      <td>판매가10,000원할인률75%할인 전 가격40,000</td>\n",
       "    </tr>\n",
       "    <tr>\n",
       "      <th>20</th>\n",
       "      <td>성범죄 상담</td>\n",
       "    </tr>\n",
       "    <tr>\n",
       "      <th>21</th>\n",
       "      <td>평균 평점4.9후기232</td>\n",
       "    </tr>\n",
       "    <tr>\n",
       "      <th>22</th>\n",
       "      <td>판매가10,000원할인률75%할인 전 가격40,000</td>\n",
       "    </tr>\n",
       "    <tr>\n",
       "      <th>23</th>\n",
       "      <td>명쾌하고 꼼꼼한 20분 심층 전화상담</td>\n",
       "    </tr>\n",
       "    <tr>\n",
       "      <th>24</th>\n",
       "      <td>평균 평점4.8후기92</td>\n",
       "    </tr>\n",
       "    <tr>\n",
       "      <th>25</th>\n",
       "      <td>판매가20,000원할인률60%할인 전 가격50,000</td>\n",
       "    </tr>\n",
       "    <tr>\n",
       "      <th>26</th>\n",
       "      <td>성범죄 상담</td>\n",
       "    </tr>\n",
       "    <tr>\n",
       "      <th>27</th>\n",
       "      <td>평점5</td>\n",
       "    </tr>\n",
       "    <tr>\n",
       "      <th>28</th>\n",
       "      <td>늦은시간에다 억울함에 말도 더듬게 되고 화가 치밀어오르는데 차분하게 이야기 들어주시...</td>\n",
       "    </tr>\n",
       "    <tr>\n",
       "      <th>29</th>\n",
       "      <td>성범죄 상담</td>\n",
       "    </tr>\n",
       "    <tr>\n",
       "      <th>30</th>\n",
       "      <td>평점5</td>\n",
       "    </tr>\n",
       "    <tr>\n",
       "      <th>31</th>\n",
       "      <td>늦은시간에 상담감사합니다</td>\n",
       "    </tr>\n",
       "    <tr>\n",
       "      <th>32</th>\n",
       "      <td>성범죄 상담</td>\n",
       "    </tr>\n",
       "    <tr>\n",
       "      <th>33</th>\n",
       "      <td>평점5</td>\n",
       "    </tr>\n",
       "    <tr>\n",
       "      <th>34</th>\n",
       "      <td>빠르게 제가 궁금한 부분에 대해서 설명해주십니다!</td>\n",
       "    </tr>\n",
       "  </tbody>\n",
       "</table>\n",
       "</div>"
      ],
      "text/plain": [
       "                                                    0\n",
       "0   https://m.kin.naver.com/profile/index.nhn?u=zv...\n",
       "1                                                 이재용\n",
       "2                                                손해배상\n",
       "3                                                교통사고\n",
       "4                                                형사사건\n",
       "5                                            평균 평점4.9\n",
       "6                                                 715\n",
       "7                                                 934\n",
       "8                                                 이재용\n",
       "9                                             JY법률사무소\n",
       "10                                       128-32-34769\n",
       "11                                                   \n",
       "12       (우:06647) 서울특별시 서초구 서초대로 254 (서초동, 오퓨런스) 14층\n",
       "13                                          025824833\n",
       "14                               wjdgml1278@naver.com\n",
       "15                                                  3\n",
       "16                                                715\n",
       "17                                 신속하고 정확한 형사사건 법률상담\n",
       "18                                      평균 평점4.9후기391\n",
       "19                      판매가10,000원할인률75%할인 전 가격40,000\n",
       "20                                             성범죄 상담\n",
       "21                                      평균 평점4.9후기232\n",
       "22                      판매가10,000원할인률75%할인 전 가격40,000\n",
       "23                               명쾌하고 꼼꼼한 20분 심층 전화상담\n",
       "24                                       평균 평점4.8후기92\n",
       "25                      판매가20,000원할인률60%할인 전 가격50,000\n",
       "26                                             성범죄 상담\n",
       "27                                                평점5\n",
       "28  늦은시간에다 억울함에 말도 더듬게 되고 화가 치밀어오르는데 차분하게 이야기 들어주시...\n",
       "29                                             성범죄 상담\n",
       "30                                                평점5\n",
       "31                                     늦은시간에 상담감사합니다 \n",
       "32                                             성범죄 상담\n",
       "33                                                평점5\n",
       "34                        빠르게 제가 궁금한 부분에 대해서 설명해주십니다!"
      ]
     },
     "execution_count": 401,
     "metadata": {},
     "output_type": "execute_result"
    }
   ],
   "source": [
    "new = test.T\n",
    "new"
   ]
  },
  {
   "cell_type": "code",
   "execution_count": 402,
   "id": "spanish-ability",
   "metadata": {},
   "outputs": [
    {
     "data": {
      "text/plain": [
       "35"
      ]
     },
     "execution_count": 402,
     "metadata": {},
     "output_type": "execute_result"
    }
   ],
   "source": [
    "index = ['url',\"name\",\"specialty 1\",\"specialty 2\",\"specialty 3\",\"rating\",\"review\", \"consultations\",\"Title\" ,\"Company\" , \"Comapny Regestration\",\"Mail order Business Number\",\"Address\",\"Service center\",\"Mail\",\"Product\", \"Review\",'Consultation 01', \"Con01 Rating/Review\", \"Con01 Discount/Fee\", 'Consultation 02', \"Con02 Rating/Review\", \"Con02 Discount/Fee\",'Consultation 03', \"Con03 Rating/Review\", \"Con03 Discount/Fee\",\"Review 01 Heading\", \"Review 01 Rating\",\"Review 01 Text\",\"Review 02 Heading\", \"Review 02 Rating\",\"Review 02 Text\",\"Review 03 Heading\", \"Review 03 Rating\",\"Review 03 Text\"  ]\n",
    "len(index)"
   ]
  },
  {
   "cell_type": "code",
   "execution_count": 403,
   "id": "civic-chair",
   "metadata": {},
   "outputs": [],
   "source": [
    "new.index = index"
   ]
  },
  {
   "cell_type": "code",
   "execution_count": 404,
   "id": "consolidated-burden",
   "metadata": {},
   "outputs": [
    {
     "data": {
      "text/html": [
       "<div>\n",
       "<style scoped>\n",
       "    .dataframe tbody tr th:only-of-type {\n",
       "        vertical-align: middle;\n",
       "    }\n",
       "\n",
       "    .dataframe tbody tr th {\n",
       "        vertical-align: top;\n",
       "    }\n",
       "\n",
       "    .dataframe thead th {\n",
       "        text-align: right;\n",
       "    }\n",
       "</style>\n",
       "<table border=\"1\" class=\"dataframe\">\n",
       "  <thead>\n",
       "    <tr style=\"text-align: right;\">\n",
       "      <th></th>\n",
       "      <th>0</th>\n",
       "    </tr>\n",
       "  </thead>\n",
       "  <tbody>\n",
       "    <tr>\n",
       "      <th>url</th>\n",
       "      <td>https://m.kin.naver.com/profile/index.nhn?u=zv...</td>\n",
       "    </tr>\n",
       "    <tr>\n",
       "      <th>name</th>\n",
       "      <td>이재용</td>\n",
       "    </tr>\n",
       "    <tr>\n",
       "      <th>specialty 1</th>\n",
       "      <td>손해배상</td>\n",
       "    </tr>\n",
       "    <tr>\n",
       "      <th>specialty 2</th>\n",
       "      <td>교통사고</td>\n",
       "    </tr>\n",
       "    <tr>\n",
       "      <th>specialty 3</th>\n",
       "      <td>형사사건</td>\n",
       "    </tr>\n",
       "    <tr>\n",
       "      <th>rating</th>\n",
       "      <td>평균 평점4.9</td>\n",
       "    </tr>\n",
       "    <tr>\n",
       "      <th>review</th>\n",
       "      <td>715</td>\n",
       "    </tr>\n",
       "    <tr>\n",
       "      <th>consultations</th>\n",
       "      <td>934</td>\n",
       "    </tr>\n",
       "    <tr>\n",
       "      <th>Title</th>\n",
       "      <td>이재용</td>\n",
       "    </tr>\n",
       "    <tr>\n",
       "      <th>Company</th>\n",
       "      <td>JY법률사무소</td>\n",
       "    </tr>\n",
       "    <tr>\n",
       "      <th>Comapny Regestration</th>\n",
       "      <td>128-32-34769</td>\n",
       "    </tr>\n",
       "    <tr>\n",
       "      <th>Mail order Business Number</th>\n",
       "      <td></td>\n",
       "    </tr>\n",
       "    <tr>\n",
       "      <th>Address</th>\n",
       "      <td>(우:06647) 서울특별시 서초구 서초대로 254 (서초동, 오퓨런스) 14층</td>\n",
       "    </tr>\n",
       "    <tr>\n",
       "      <th>Service center</th>\n",
       "      <td>025824833</td>\n",
       "    </tr>\n",
       "    <tr>\n",
       "      <th>Mail</th>\n",
       "      <td>wjdgml1278@naver.com</td>\n",
       "    </tr>\n",
       "    <tr>\n",
       "      <th>Product</th>\n",
       "      <td>3</td>\n",
       "    </tr>\n",
       "    <tr>\n",
       "      <th>Review</th>\n",
       "      <td>715</td>\n",
       "    </tr>\n",
       "    <tr>\n",
       "      <th>Consultation 01</th>\n",
       "      <td>신속하고 정확한 형사사건 법률상담</td>\n",
       "    </tr>\n",
       "    <tr>\n",
       "      <th>Con01 Rating/Review</th>\n",
       "      <td>평균 평점4.9후기391</td>\n",
       "    </tr>\n",
       "    <tr>\n",
       "      <th>Con01 Discount/Fee</th>\n",
       "      <td>판매가10,000원할인률75%할인 전 가격40,000</td>\n",
       "    </tr>\n",
       "    <tr>\n",
       "      <th>Consultation 02</th>\n",
       "      <td>성범죄 상담</td>\n",
       "    </tr>\n",
       "    <tr>\n",
       "      <th>Con02 Rating/Review</th>\n",
       "      <td>평균 평점4.9후기232</td>\n",
       "    </tr>\n",
       "    <tr>\n",
       "      <th>Con02 Discount/Fee</th>\n",
       "      <td>판매가10,000원할인률75%할인 전 가격40,000</td>\n",
       "    </tr>\n",
       "    <tr>\n",
       "      <th>Consultation 03</th>\n",
       "      <td>명쾌하고 꼼꼼한 20분 심층 전화상담</td>\n",
       "    </tr>\n",
       "    <tr>\n",
       "      <th>Con03 Rating/Review</th>\n",
       "      <td>평균 평점4.8후기92</td>\n",
       "    </tr>\n",
       "    <tr>\n",
       "      <th>Con03 Discount/Fee</th>\n",
       "      <td>판매가20,000원할인률60%할인 전 가격50,000</td>\n",
       "    </tr>\n",
       "    <tr>\n",
       "      <th>Review 01 Heading</th>\n",
       "      <td>성범죄 상담</td>\n",
       "    </tr>\n",
       "    <tr>\n",
       "      <th>Review 01 Rating</th>\n",
       "      <td>평점5</td>\n",
       "    </tr>\n",
       "    <tr>\n",
       "      <th>Review 01 Text</th>\n",
       "      <td>늦은시간에다 억울함에 말도 더듬게 되고 화가 치밀어오르는데 차분하게 이야기 들어주시...</td>\n",
       "    </tr>\n",
       "    <tr>\n",
       "      <th>Review 02 Heading</th>\n",
       "      <td>성범죄 상담</td>\n",
       "    </tr>\n",
       "    <tr>\n",
       "      <th>Review 02 Rating</th>\n",
       "      <td>평점5</td>\n",
       "    </tr>\n",
       "    <tr>\n",
       "      <th>Review 02 Text</th>\n",
       "      <td>늦은시간에 상담감사합니다</td>\n",
       "    </tr>\n",
       "    <tr>\n",
       "      <th>Review 03 Heading</th>\n",
       "      <td>성범죄 상담</td>\n",
       "    </tr>\n",
       "    <tr>\n",
       "      <th>Review 03 Rating</th>\n",
       "      <td>평점5</td>\n",
       "    </tr>\n",
       "    <tr>\n",
       "      <th>Review 03 Text</th>\n",
       "      <td>빠르게 제가 궁금한 부분에 대해서 설명해주십니다!</td>\n",
       "    </tr>\n",
       "  </tbody>\n",
       "</table>\n",
       "</div>"
      ],
      "text/plain": [
       "                                                                            0\n",
       "url                         https://m.kin.naver.com/profile/index.nhn?u=zv...\n",
       "name                                                                      이재용\n",
       "specialty 1                                                              손해배상\n",
       "specialty 2                                                              교통사고\n",
       "specialty 3                                                              형사사건\n",
       "rating                                                               평균 평점4.9\n",
       "review                                                                    715\n",
       "consultations                                                             934\n",
       "Title                                                                     이재용\n",
       "Company                                                               JY법률사무소\n",
       "Comapny Regestration                                             128-32-34769\n",
       "Mail order Business Number                                                   \n",
       "Address                          (우:06647) 서울특별시 서초구 서초대로 254 (서초동, 오퓨런스) 14층\n",
       "Service center                                                      025824833\n",
       "Mail                                                     wjdgml1278@naver.com\n",
       "Product                                                                     3\n",
       "Review                                                                    715\n",
       "Consultation 01                                            신속하고 정확한 형사사건 법률상담\n",
       "Con01 Rating/Review                                             평균 평점4.9후기391\n",
       "Con01 Discount/Fee                              판매가10,000원할인률75%할인 전 가격40,000\n",
       "Consultation 02                                                        성범죄 상담\n",
       "Con02 Rating/Review                                             평균 평점4.9후기232\n",
       "Con02 Discount/Fee                              판매가10,000원할인률75%할인 전 가격40,000\n",
       "Consultation 03                                          명쾌하고 꼼꼼한 20분 심층 전화상담\n",
       "Con03 Rating/Review                                              평균 평점4.8후기92\n",
       "Con03 Discount/Fee                              판매가20,000원할인률60%할인 전 가격50,000\n",
       "Review 01 Heading                                                      성범죄 상담\n",
       "Review 01 Rating                                                          평점5\n",
       "Review 01 Text              늦은시간에다 억울함에 말도 더듬게 되고 화가 치밀어오르는데 차분하게 이야기 들어주시...\n",
       "Review 02 Heading                                                      성범죄 상담\n",
       "Review 02 Rating                                                          평점5\n",
       "Review 02 Text                                                 늦은시간에 상담감사합니다 \n",
       "Review 03 Heading                                                      성범죄 상담\n",
       "Review 03 Rating                                                          평점5\n",
       "Review 03 Text                                    빠르게 제가 궁금한 부분에 대해서 설명해주십니다!"
      ]
     },
     "execution_count": 404,
     "metadata": {},
     "output_type": "execute_result"
    }
   ],
   "source": [
    "new"
   ]
  },
  {
   "cell_type": "code",
   "execution_count": null,
   "id": "wooden-evidence",
   "metadata": {},
   "outputs": [],
   "source": []
  },
  {
   "cell_type": "code",
   "execution_count": 259,
   "id": "fancy-essay",
   "metadata": {},
   "outputs": [],
   "source": [
    "test.columns = ['url',\"name\",\"specialty 1\",\"specialty 2\",\"specialty 3\",\"rating\",\"review\", \"consultations\",\"Title\" ,\"Company\" , \"Comapny Regestration\",\"Mail order Business Number\",\"Address\",\"Service center\",\"Mail\",\"Product\", \"Review\",\"Works\" ]"
   ]
  },
  {
   "cell_type": "code",
   "execution_count": 260,
   "id": "neutral-haiti",
   "metadata": {},
   "outputs": [
    {
     "data": {
      "text/html": [
       "<div>\n",
       "<style scoped>\n",
       "    .dataframe tbody tr th:only-of-type {\n",
       "        vertical-align: middle;\n",
       "    }\n",
       "\n",
       "    .dataframe tbody tr th {\n",
       "        vertical-align: top;\n",
       "    }\n",
       "\n",
       "    .dataframe thead th {\n",
       "        text-align: right;\n",
       "    }\n",
       "</style>\n",
       "<table border=\"1\" class=\"dataframe\">\n",
       "  <thead>\n",
       "    <tr style=\"text-align: right;\">\n",
       "      <th></th>\n",
       "      <th>url</th>\n",
       "      <th>name</th>\n",
       "      <th>specialty 1</th>\n",
       "      <th>specialty 2</th>\n",
       "      <th>specialty 3</th>\n",
       "      <th>rating</th>\n",
       "      <th>review</th>\n",
       "      <th>consultations</th>\n",
       "      <th>Title</th>\n",
       "      <th>Company</th>\n",
       "      <th>Comapny Regestration</th>\n",
       "      <th>Mail order Business Number</th>\n",
       "      <th>Address</th>\n",
       "      <th>Service center</th>\n",
       "      <th>Mail</th>\n",
       "      <th>Product</th>\n",
       "      <th>Review</th>\n",
       "      <th>Works</th>\n",
       "    </tr>\n",
       "  </thead>\n",
       "  <tbody>\n",
       "    <tr>\n",
       "      <th>0</th>\n",
       "      <td>https://m.kin.naver.com/profile/index.nhn?u=zv...</td>\n",
       "      <td>이재용</td>\n",
       "      <td>손해배상</td>\n",
       "      <td>교통사고</td>\n",
       "      <td>형사사건</td>\n",
       "      <td>평균 평점4.9</td>\n",
       "      <td>715</td>\n",
       "      <td>934</td>\n",
       "      <td>이재용</td>\n",
       "      <td>JY법률사무소</td>\n",
       "      <td>128-32-34769</td>\n",
       "      <td></td>\n",
       "      <td>(우:06647) 서울특별시 서초구 서초대로 254 (서초동, 오퓨런스) 14층</td>\n",
       "      <td>025824833</td>\n",
       "      <td>wjdgml1278@naver.com</td>\n",
       "      <td>3</td>\n",
       "      <td>715</td>\n",
       "      <td>[[신속하고 정확한 형사사건 법률상담, 평균 평점4.9후기391, 판매가10,000...</td>\n",
       "    </tr>\n",
       "  </tbody>\n",
       "</table>\n",
       "</div>"
      ],
      "text/plain": [
       "                                                 url name specialty 1  \\\n",
       "0  https://m.kin.naver.com/profile/index.nhn?u=zv...  이재용        손해배상   \n",
       "\n",
       "  specialty 2 specialty 3    rating review consultations Title  Company  \\\n",
       "0        교통사고        형사사건  평균 평점4.9    715           934   이재용  JY법률사무소   \n",
       "\n",
       "  Comapny Regestration Mail order Business Number  \\\n",
       "0         128-32-34769                              \n",
       "\n",
       "                                        Address Service center  \\\n",
       "0  (우:06647) 서울특별시 서초구 서초대로 254 (서초동, 오퓨런스) 14층      025824833   \n",
       "\n",
       "                   Mail Product Review  \\\n",
       "0  wjdgml1278@naver.com       3    715   \n",
       "\n",
       "                                               Works  \n",
       "0  [[신속하고 정확한 형사사건 법률상담, 평균 평점4.9후기391, 판매가10,000...  "
      ]
     },
     "execution_count": 260,
     "metadata": {},
     "output_type": "execute_result"
    }
   ],
   "source": [
    "test"
   ]
  },
  {
   "cell_type": "code",
   "execution_count": 262,
   "id": "funky-letters",
   "metadata": {},
   "outputs": [
    {
     "data": {
      "text/html": [
       "<div>\n",
       "<style scoped>\n",
       "    .dataframe tbody tr th:only-of-type {\n",
       "        vertical-align: middle;\n",
       "    }\n",
       "\n",
       "    .dataframe tbody tr th {\n",
       "        vertical-align: top;\n",
       "    }\n",
       "\n",
       "    .dataframe thead th {\n",
       "        text-align: right;\n",
       "    }\n",
       "</style>\n",
       "<table border=\"1\" class=\"dataframe\">\n",
       "  <thead>\n",
       "    <tr style=\"text-align: right;\">\n",
       "      <th></th>\n",
       "      <th>url</th>\n",
       "      <th>name</th>\n",
       "      <th>specialty 1</th>\n",
       "      <th>specialty 2</th>\n",
       "      <th>specialty 3</th>\n",
       "      <th>rating</th>\n",
       "      <th>consultations</th>\n",
       "      <th>Title</th>\n",
       "      <th>Company</th>\n",
       "      <th>Comapny Regestration</th>\n",
       "      <th>Mail order Business Number</th>\n",
       "      <th>Address</th>\n",
       "      <th>Service center</th>\n",
       "      <th>Mail</th>\n",
       "      <th>Product</th>\n",
       "      <th>Review</th>\n",
       "      <th>Works</th>\n",
       "    </tr>\n",
       "  </thead>\n",
       "  <tbody>\n",
       "    <tr>\n",
       "      <th>0</th>\n",
       "      <td>https://m.kin.naver.com/profile/index.nhn?u=zv...</td>\n",
       "      <td>이재용</td>\n",
       "      <td>손해배상</td>\n",
       "      <td>교통사고</td>\n",
       "      <td>형사사건</td>\n",
       "      <td>평균 평점4.9</td>\n",
       "      <td>934</td>\n",
       "      <td>이재용</td>\n",
       "      <td>JY법률사무소</td>\n",
       "      <td>128-32-34769</td>\n",
       "      <td></td>\n",
       "      <td>(우:06647) 서울특별시 서초구 서초대로 254 (서초동, 오퓨런스) 14층</td>\n",
       "      <td>025824833</td>\n",
       "      <td>wjdgml1278@naver.com</td>\n",
       "      <td>3</td>\n",
       "      <td>715</td>\n",
       "      <td>[[신속하고 정확한 형사사건 법률상담, 평균 평점4.9후기391, 판매가10,000...</td>\n",
       "    </tr>\n",
       "  </tbody>\n",
       "</table>\n",
       "</div>"
      ],
      "text/plain": [
       "                                                 url name specialty 1  \\\n",
       "0  https://m.kin.naver.com/profile/index.nhn?u=zv...  이재용        손해배상   \n",
       "\n",
       "  specialty 2 specialty 3    rating consultations Title  Company  \\\n",
       "0        교통사고        형사사건  평균 평점4.9           934   이재용  JY법률사무소   \n",
       "\n",
       "  Comapny Regestration Mail order Business Number  \\\n",
       "0         128-32-34769                              \n",
       "\n",
       "                                        Address Service center  \\\n",
       "0  (우:06647) 서울특별시 서초구 서초대로 254 (서초동, 오퓨런스) 14층      025824833   \n",
       "\n",
       "                   Mail Product Review  \\\n",
       "0  wjdgml1278@naver.com       3    715   \n",
       "\n",
       "                                               Works  \n",
       "0  [[신속하고 정확한 형사사건 법률상담, 평균 평점4.9후기391, 판매가10,000...  "
      ]
     },
     "execution_count": 262,
     "metadata": {},
     "output_type": "execute_result"
    }
   ],
   "source": [
    "test.drop('review',axis = 1)"
   ]
  },
  {
   "cell_type": "code",
   "execution_count": 263,
   "id": "forty-anatomy",
   "metadata": {},
   "outputs": [
    {
     "data": {
      "text/html": [
       "<div>\n",
       "<style scoped>\n",
       "    .dataframe tbody tr th:only-of-type {\n",
       "        vertical-align: middle;\n",
       "    }\n",
       "\n",
       "    .dataframe tbody tr th {\n",
       "        vertical-align: top;\n",
       "    }\n",
       "\n",
       "    .dataframe thead th {\n",
       "        text-align: right;\n",
       "    }\n",
       "</style>\n",
       "<table border=\"1\" class=\"dataframe\">\n",
       "  <thead>\n",
       "    <tr style=\"text-align: right;\">\n",
       "      <th></th>\n",
       "      <th>url</th>\n",
       "      <th>name</th>\n",
       "      <th>specialty 1</th>\n",
       "      <th>specialty 2</th>\n",
       "      <th>specialty 3</th>\n",
       "      <th>rating</th>\n",
       "      <th>review</th>\n",
       "      <th>consultations</th>\n",
       "      <th>Title</th>\n",
       "      <th>Company</th>\n",
       "      <th>Comapny Regestration</th>\n",
       "      <th>Mail order Business Number</th>\n",
       "      <th>Address</th>\n",
       "      <th>Service center</th>\n",
       "      <th>Mail</th>\n",
       "      <th>Product</th>\n",
       "      <th>Review</th>\n",
       "      <th>Works</th>\n",
       "    </tr>\n",
       "  </thead>\n",
       "  <tbody>\n",
       "    <tr>\n",
       "      <th>0</th>\n",
       "      <td>https://m.kin.naver.com/profile/index.nhn?u=zv...</td>\n",
       "      <td>이재용</td>\n",
       "      <td>손해배상</td>\n",
       "      <td>교통사고</td>\n",
       "      <td>형사사건</td>\n",
       "      <td>평균 평점4.9</td>\n",
       "      <td>715</td>\n",
       "      <td>934</td>\n",
       "      <td>이재용</td>\n",
       "      <td>JY법률사무소</td>\n",
       "      <td>128-32-34769</td>\n",
       "      <td></td>\n",
       "      <td>(우:06647) 서울특별시 서초구 서초대로 254 (서초동, 오퓨런스) 14층</td>\n",
       "      <td>025824833</td>\n",
       "      <td>wjdgml1278@naver.com</td>\n",
       "      <td>3</td>\n",
       "      <td>715</td>\n",
       "      <td>[[신속하고 정확한 형사사건 법률상담, 평균 평점4.9후기391, 판매가10,000...</td>\n",
       "    </tr>\n",
       "  </tbody>\n",
       "</table>\n",
       "</div>"
      ],
      "text/plain": [
       "                                                 url name specialty 1  \\\n",
       "0  https://m.kin.naver.com/profile/index.nhn?u=zv...  이재용        손해배상   \n",
       "\n",
       "  specialty 2 specialty 3    rating review consultations Title  Company  \\\n",
       "0        교통사고        형사사건  평균 평점4.9    715           934   이재용  JY법률사무소   \n",
       "\n",
       "  Comapny Regestration Mail order Business Number  \\\n",
       "0         128-32-34769                              \n",
       "\n",
       "                                        Address Service center  \\\n",
       "0  (우:06647) 서울특별시 서초구 서초대로 254 (서초동, 오퓨런스) 14층      025824833   \n",
       "\n",
       "                   Mail Product Review  \\\n",
       "0  wjdgml1278@naver.com       3    715   \n",
       "\n",
       "                                               Works  \n",
       "0  [[신속하고 정확한 형사사건 법률상담, 평균 평점4.9후기391, 판매가10,000...  "
      ]
     },
     "execution_count": 263,
     "metadata": {},
     "output_type": "execute_result"
    }
   ],
   "source": [
    "test"
   ]
  },
  {
   "cell_type": "code",
   "execution_count": 281,
   "id": "impressed-centre",
   "metadata": {},
   "outputs": [
    {
     "data": {
      "text/plain": [
       "['신속하고 정확한 형사사건 법률상담',\n",
       " '평균 평점4.9후기391',\n",
       " '판매가10,000원할인률75%할인 전 가격40,000',\n",
       " '성범죄 상담',\n",
       " '평균 평점4.9후기232',\n",
       " '판매가10,000원할인률75%할인 전 가격40,000',\n",
       " '명쾌하고 꼼꼼한 20분 심층 전화상담',\n",
       " '평균 평점4.8후기92',\n",
       " '판매가20,000원할인률60%할인 전 가격50,000']"
      ]
     },
     "execution_count": 281,
     "metadata": {},
     "output_type": "execute_result"
    }
   ],
   "source": [
    "f = []\n",
    "works = test[\"Works\"]\n",
    "for i in works:\n",
    "    for j in i:\n",
    "        for m in j:\n",
    "            f.append(m)\n",
    "            \n",
    "f"
   ]
  },
  {
   "cell_type": "code",
   "execution_count": 297,
   "id": "advised-likelihood",
   "metadata": {},
   "outputs": [],
   "source": [
    "ff = pd.Series(f)\n",
    "\n",
    "ff = ff.T"
   ]
  },
  {
   "cell_type": "code",
   "execution_count": 300,
   "id": "secondary-hampton",
   "metadata": {},
   "outputs": [
    {
     "data": {
      "text/html": [
       "<div>\n",
       "<style scoped>\n",
       "    .dataframe tbody tr th:only-of-type {\n",
       "        vertical-align: middle;\n",
       "    }\n",
       "\n",
       "    .dataframe tbody tr th {\n",
       "        vertical-align: top;\n",
       "    }\n",
       "\n",
       "    .dataframe thead th {\n",
       "        text-align: right;\n",
       "    }\n",
       "</style>\n",
       "<table border=\"1\" class=\"dataframe\">\n",
       "  <thead>\n",
       "    <tr style=\"text-align: right;\">\n",
       "      <th></th>\n",
       "      <th>url</th>\n",
       "      <th>name</th>\n",
       "      <th>specialty 1</th>\n",
       "      <th>specialty 2</th>\n",
       "      <th>specialty 3</th>\n",
       "      <th>rating</th>\n",
       "      <th>review</th>\n",
       "      <th>consultations</th>\n",
       "      <th>Title</th>\n",
       "      <th>Company</th>\n",
       "      <th>Comapny Regestration</th>\n",
       "      <th>Mail order Business Number</th>\n",
       "      <th>Address</th>\n",
       "      <th>Service center</th>\n",
       "      <th>Mail</th>\n",
       "      <th>Product</th>\n",
       "      <th>Review</th>\n",
       "      <th>Works</th>\n",
       "      <th>0</th>\n",
       "    </tr>\n",
       "  </thead>\n",
       "  <tbody>\n",
       "    <tr>\n",
       "      <th>0</th>\n",
       "      <td>https://m.kin.naver.com/profile/index.nhn?u=zv...</td>\n",
       "      <td>이재용</td>\n",
       "      <td>손해배상</td>\n",
       "      <td>교통사고</td>\n",
       "      <td>형사사건</td>\n",
       "      <td>평균 평점4.9</td>\n",
       "      <td>715</td>\n",
       "      <td>934</td>\n",
       "      <td>이재용</td>\n",
       "      <td>JY법률사무소</td>\n",
       "      <td>128-32-34769</td>\n",
       "      <td></td>\n",
       "      <td>(우:06647) 서울특별시 서초구 서초대로 254 (서초동, 오퓨런스) 14층</td>\n",
       "      <td>025824833</td>\n",
       "      <td>wjdgml1278@naver.com</td>\n",
       "      <td>3</td>\n",
       "      <td>715</td>\n",
       "      <td>[[신속하고 정확한 형사사건 법률상담, 평균 평점4.9후기391, 판매가10,000...</td>\n",
       "      <td>신속하고 정확한 형사사건 법률상담</td>\n",
       "    </tr>\n",
       "    <tr>\n",
       "      <th>1</th>\n",
       "      <td>NaN</td>\n",
       "      <td>NaN</td>\n",
       "      <td>NaN</td>\n",
       "      <td>NaN</td>\n",
       "      <td>NaN</td>\n",
       "      <td>NaN</td>\n",
       "      <td>NaN</td>\n",
       "      <td>NaN</td>\n",
       "      <td>NaN</td>\n",
       "      <td>NaN</td>\n",
       "      <td>NaN</td>\n",
       "      <td>NaN</td>\n",
       "      <td>NaN</td>\n",
       "      <td>NaN</td>\n",
       "      <td>NaN</td>\n",
       "      <td>NaN</td>\n",
       "      <td>NaN</td>\n",
       "      <td>NaN</td>\n",
       "      <td>평균 평점4.9후기391</td>\n",
       "    </tr>\n",
       "    <tr>\n",
       "      <th>2</th>\n",
       "      <td>NaN</td>\n",
       "      <td>NaN</td>\n",
       "      <td>NaN</td>\n",
       "      <td>NaN</td>\n",
       "      <td>NaN</td>\n",
       "      <td>NaN</td>\n",
       "      <td>NaN</td>\n",
       "      <td>NaN</td>\n",
       "      <td>NaN</td>\n",
       "      <td>NaN</td>\n",
       "      <td>NaN</td>\n",
       "      <td>NaN</td>\n",
       "      <td>NaN</td>\n",
       "      <td>NaN</td>\n",
       "      <td>NaN</td>\n",
       "      <td>NaN</td>\n",
       "      <td>NaN</td>\n",
       "      <td>NaN</td>\n",
       "      <td>판매가10,000원할인률75%할인 전 가격40,000</td>\n",
       "    </tr>\n",
       "    <tr>\n",
       "      <th>3</th>\n",
       "      <td>NaN</td>\n",
       "      <td>NaN</td>\n",
       "      <td>NaN</td>\n",
       "      <td>NaN</td>\n",
       "      <td>NaN</td>\n",
       "      <td>NaN</td>\n",
       "      <td>NaN</td>\n",
       "      <td>NaN</td>\n",
       "      <td>NaN</td>\n",
       "      <td>NaN</td>\n",
       "      <td>NaN</td>\n",
       "      <td>NaN</td>\n",
       "      <td>NaN</td>\n",
       "      <td>NaN</td>\n",
       "      <td>NaN</td>\n",
       "      <td>NaN</td>\n",
       "      <td>NaN</td>\n",
       "      <td>NaN</td>\n",
       "      <td>성범죄 상담</td>\n",
       "    </tr>\n",
       "    <tr>\n",
       "      <th>4</th>\n",
       "      <td>NaN</td>\n",
       "      <td>NaN</td>\n",
       "      <td>NaN</td>\n",
       "      <td>NaN</td>\n",
       "      <td>NaN</td>\n",
       "      <td>NaN</td>\n",
       "      <td>NaN</td>\n",
       "      <td>NaN</td>\n",
       "      <td>NaN</td>\n",
       "      <td>NaN</td>\n",
       "      <td>NaN</td>\n",
       "      <td>NaN</td>\n",
       "      <td>NaN</td>\n",
       "      <td>NaN</td>\n",
       "      <td>NaN</td>\n",
       "      <td>NaN</td>\n",
       "      <td>NaN</td>\n",
       "      <td>NaN</td>\n",
       "      <td>평균 평점4.9후기232</td>\n",
       "    </tr>\n",
       "    <tr>\n",
       "      <th>5</th>\n",
       "      <td>NaN</td>\n",
       "      <td>NaN</td>\n",
       "      <td>NaN</td>\n",
       "      <td>NaN</td>\n",
       "      <td>NaN</td>\n",
       "      <td>NaN</td>\n",
       "      <td>NaN</td>\n",
       "      <td>NaN</td>\n",
       "      <td>NaN</td>\n",
       "      <td>NaN</td>\n",
       "      <td>NaN</td>\n",
       "      <td>NaN</td>\n",
       "      <td>NaN</td>\n",
       "      <td>NaN</td>\n",
       "      <td>NaN</td>\n",
       "      <td>NaN</td>\n",
       "      <td>NaN</td>\n",
       "      <td>NaN</td>\n",
       "      <td>판매가10,000원할인률75%할인 전 가격40,000</td>\n",
       "    </tr>\n",
       "    <tr>\n",
       "      <th>6</th>\n",
       "      <td>NaN</td>\n",
       "      <td>NaN</td>\n",
       "      <td>NaN</td>\n",
       "      <td>NaN</td>\n",
       "      <td>NaN</td>\n",
       "      <td>NaN</td>\n",
       "      <td>NaN</td>\n",
       "      <td>NaN</td>\n",
       "      <td>NaN</td>\n",
       "      <td>NaN</td>\n",
       "      <td>NaN</td>\n",
       "      <td>NaN</td>\n",
       "      <td>NaN</td>\n",
       "      <td>NaN</td>\n",
       "      <td>NaN</td>\n",
       "      <td>NaN</td>\n",
       "      <td>NaN</td>\n",
       "      <td>NaN</td>\n",
       "      <td>명쾌하고 꼼꼼한 20분 심층 전화상담</td>\n",
       "    </tr>\n",
       "    <tr>\n",
       "      <th>7</th>\n",
       "      <td>NaN</td>\n",
       "      <td>NaN</td>\n",
       "      <td>NaN</td>\n",
       "      <td>NaN</td>\n",
       "      <td>NaN</td>\n",
       "      <td>NaN</td>\n",
       "      <td>NaN</td>\n",
       "      <td>NaN</td>\n",
       "      <td>NaN</td>\n",
       "      <td>NaN</td>\n",
       "      <td>NaN</td>\n",
       "      <td>NaN</td>\n",
       "      <td>NaN</td>\n",
       "      <td>NaN</td>\n",
       "      <td>NaN</td>\n",
       "      <td>NaN</td>\n",
       "      <td>NaN</td>\n",
       "      <td>NaN</td>\n",
       "      <td>평균 평점4.8후기92</td>\n",
       "    </tr>\n",
       "    <tr>\n",
       "      <th>8</th>\n",
       "      <td>NaN</td>\n",
       "      <td>NaN</td>\n",
       "      <td>NaN</td>\n",
       "      <td>NaN</td>\n",
       "      <td>NaN</td>\n",
       "      <td>NaN</td>\n",
       "      <td>NaN</td>\n",
       "      <td>NaN</td>\n",
       "      <td>NaN</td>\n",
       "      <td>NaN</td>\n",
       "      <td>NaN</td>\n",
       "      <td>NaN</td>\n",
       "      <td>NaN</td>\n",
       "      <td>NaN</td>\n",
       "      <td>NaN</td>\n",
       "      <td>NaN</td>\n",
       "      <td>NaN</td>\n",
       "      <td>NaN</td>\n",
       "      <td>판매가20,000원할인률60%할인 전 가격50,000</td>\n",
       "    </tr>\n",
       "  </tbody>\n",
       "</table>\n",
       "</div>"
      ],
      "text/plain": [
       "                                                 url name specialty 1  \\\n",
       "0  https://m.kin.naver.com/profile/index.nhn?u=zv...  이재용        손해배상   \n",
       "1                                                NaN  NaN         NaN   \n",
       "2                                                NaN  NaN         NaN   \n",
       "3                                                NaN  NaN         NaN   \n",
       "4                                                NaN  NaN         NaN   \n",
       "5                                                NaN  NaN         NaN   \n",
       "6                                                NaN  NaN         NaN   \n",
       "7                                                NaN  NaN         NaN   \n",
       "8                                                NaN  NaN         NaN   \n",
       "\n",
       "  specialty 2 specialty 3    rating review consultations Title  Company  \\\n",
       "0        교통사고        형사사건  평균 평점4.9    715           934   이재용  JY법률사무소   \n",
       "1         NaN         NaN       NaN    NaN           NaN   NaN      NaN   \n",
       "2         NaN         NaN       NaN    NaN           NaN   NaN      NaN   \n",
       "3         NaN         NaN       NaN    NaN           NaN   NaN      NaN   \n",
       "4         NaN         NaN       NaN    NaN           NaN   NaN      NaN   \n",
       "5         NaN         NaN       NaN    NaN           NaN   NaN      NaN   \n",
       "6         NaN         NaN       NaN    NaN           NaN   NaN      NaN   \n",
       "7         NaN         NaN       NaN    NaN           NaN   NaN      NaN   \n",
       "8         NaN         NaN       NaN    NaN           NaN   NaN      NaN   \n",
       "\n",
       "  Comapny Regestration Mail order Business Number  \\\n",
       "0         128-32-34769                              \n",
       "1                  NaN                        NaN   \n",
       "2                  NaN                        NaN   \n",
       "3                  NaN                        NaN   \n",
       "4                  NaN                        NaN   \n",
       "5                  NaN                        NaN   \n",
       "6                  NaN                        NaN   \n",
       "7                  NaN                        NaN   \n",
       "8                  NaN                        NaN   \n",
       "\n",
       "                                        Address Service center  \\\n",
       "0  (우:06647) 서울특별시 서초구 서초대로 254 (서초동, 오퓨런스) 14층      025824833   \n",
       "1                                           NaN            NaN   \n",
       "2                                           NaN            NaN   \n",
       "3                                           NaN            NaN   \n",
       "4                                           NaN            NaN   \n",
       "5                                           NaN            NaN   \n",
       "6                                           NaN            NaN   \n",
       "7                                           NaN            NaN   \n",
       "8                                           NaN            NaN   \n",
       "\n",
       "                   Mail Product Review  \\\n",
       "0  wjdgml1278@naver.com       3    715   \n",
       "1                   NaN     NaN    NaN   \n",
       "2                   NaN     NaN    NaN   \n",
       "3                   NaN     NaN    NaN   \n",
       "4                   NaN     NaN    NaN   \n",
       "5                   NaN     NaN    NaN   \n",
       "6                   NaN     NaN    NaN   \n",
       "7                   NaN     NaN    NaN   \n",
       "8                   NaN     NaN    NaN   \n",
       "\n",
       "                                               Works  \\\n",
       "0  [[신속하고 정확한 형사사건 법률상담, 평균 평점4.9후기391, 판매가10,000...   \n",
       "1                                                NaN   \n",
       "2                                                NaN   \n",
       "3                                                NaN   \n",
       "4                                                NaN   \n",
       "5                                                NaN   \n",
       "6                                                NaN   \n",
       "7                                                NaN   \n",
       "8                                                NaN   \n",
       "\n",
       "                               0  \n",
       "0             신속하고 정확한 형사사건 법률상담  \n",
       "1                  평균 평점4.9후기391  \n",
       "2  판매가10,000원할인률75%할인 전 가격40,000  \n",
       "3                         성범죄 상담  \n",
       "4                  평균 평점4.9후기232  \n",
       "5  판매가10,000원할인률75%할인 전 가격40,000  \n",
       "6           명쾌하고 꼼꼼한 20분 심층 전화상담  \n",
       "7                   평균 평점4.8후기92  \n",
       "8  판매가20,000원할인률60%할인 전 가격50,000  "
      ]
     },
     "execution_count": 300,
     "metadata": {},
     "output_type": "execute_result"
    }
   ],
   "source": [
    "frames = [test, ff]\n",
    "result = pd.concat(frames, axis = 1)\n",
    "result"
   ]
  },
  {
   "cell_type": "code",
   "execution_count": null,
   "id": "sufficient-groove",
   "metadata": {},
   "outputs": [],
   "source": []
  },
  {
   "cell_type": "code",
   "execution_count": null,
   "id": "previous-detail",
   "metadata": {},
   "outputs": [],
   "source": []
  },
  {
   "cell_type": "code",
   "execution_count": null,
   "id": "optical-productivity",
   "metadata": {},
   "outputs": [],
   "source": []
  },
  {
   "cell_type": "code",
   "execution_count": null,
   "id": "royal-zambia",
   "metadata": {},
   "outputs": [],
   "source": []
  },
  {
   "cell_type": "code",
   "execution_count": 162,
   "id": "surprised-oasis",
   "metadata": {},
   "outputs": [
    {
     "data": {
      "text/plain": [
       "['이재용', '손해배상', '교통사고', '형사사건', '평균 평점4.9', '715', '934']"
      ]
     },
     "execution_count": 162,
     "metadata": {},
     "output_type": "execute_result"
    }
   ],
   "source": [
    "basic"
   ]
  },
  {
   "cell_type": "code",
   "execution_count": 164,
   "id": "younger-crest",
   "metadata": {},
   "outputs": [
    {
     "data": {
      "text/plain": [
       "['이재용',\n",
       " 'JY법률사무소',\n",
       " '128-32-34769',\n",
       " '',\n",
       " '(우:06647) 서울특별시 서초구 서초대로 254 (서초동, 오퓨런스) 14층',\n",
       " '025824833',\n",
       " 'wjdgml1278@naver.com']"
      ]
     },
     "execution_count": 164,
     "metadata": {},
     "output_type": "execute_result"
    }
   ],
   "source": [
    "maininfo"
   ]
  },
  {
   "cell_type": "code",
   "execution_count": 163,
   "id": "criminal-somalia",
   "metadata": {},
   "outputs": [
    {
     "data": {
      "text/plain": [
       "[['신속하고 정확한 형사사건 법률상담', '평균 평점4.9후기391', '판매가10,000원할인률75%할인 전 가격40,000'],\n",
       " ['성범죄 상담', '평균 평점4.9후기232', '판매가10,000원할인률75%할인 전 가격40,000'],\n",
       " ['명쾌하고 꼼꼼한 20분 심층 전화상담', '평균 평점4.8후기92', '판매가20,000원할인률60%할인 전 가격50,000']]"
      ]
     },
     "execution_count": 163,
     "metadata": {},
     "output_type": "execute_result"
    }
   ],
   "source": [
    "all_projects"
   ]
  },
  {
   "cell_type": "code",
   "execution_count": 205,
   "id": "excited-sentence",
   "metadata": {
    "scrolled": true
   },
   "outputs": [
    {
     "data": {
      "text/plain": [
       "['3', '715']"
      ]
     },
     "execution_count": 205,
     "metadata": {},
     "output_type": "execute_result"
    }
   ],
   "source": [
    "products"
   ]
  },
  {
   "cell_type": "code",
   "execution_count": null,
   "id": "shaped-capital",
   "metadata": {},
   "outputs": [],
   "source": []
  },
  {
   "cell_type": "code",
   "execution_count": null,
   "id": "hybrid-graduation",
   "metadata": {},
   "outputs": [],
   "source": []
  },
  {
   "cell_type": "code",
   "execution_count": null,
   "id": "damaged-independence",
   "metadata": {},
   "outputs": [],
   "source": []
  },
  {
   "cell_type": "markdown",
   "id": "judicial-cincinnati",
   "metadata": {},
   "source": [
    "# Basic"
   ]
  },
  {
   "cell_type": "code",
   "execution_count": 168,
   "id": "daily-final",
   "metadata": {},
   "outputs": [
    {
     "name": "stdout",
     "output_type": "stream",
     "text": [
      "https://m.kin.naver.com/profile/index.nhn?u=zvRvZSrTBCeYUJjRbEc5OKhzAkyWWga1TYilww4ty7Y%3D\n",
      "['이재용', '법률', '손해배상', '교통사고', '형사사건', '평균 평점4.9', '715', '934']\n"
     ]
    }
   ],
   "source": [
    "basic = []\n",
    "\n",
    "for i in range(1):\n",
    "#     print(\"Serial :,\"i)\n",
    "    all_projects = []\n",
    "    url = pl[1]\n",
    "    print(url)\n",
    "    driver = webdriver.Chrome(r'C:\\Users\\USER\\chromedriver_win32\\chromedriver.exe')\n",
    "    driver.get(url)\n",
    "    time.sleep(3)\n",
    "    source_code = driver.page_source\n",
    "    soup = BeautifulSoup(source_code, 'html.parser')\n",
    "    name = soup.find_all('strong', class_ = 'userName--1ZA07')\n",
    "    for n in name:\n",
    "        basic.append(n.text)\n",
    "        \n",
    "    category = soup.find_all('strong', class_ = 'introCategory--F81Ky')\n",
    "    for e in category:\n",
    "        basic.append(e.text)\n",
    "        \n",
    "    sp = soup.find_all('div', class_ = 'categoryName--1zWtA')\n",
    "    for m in sp:\n",
    "        basic.append(m.text)\n",
    "    rating = soup.find_all('div', class_ = 'itemRating--360UA itemRating--2-rFv typeLarge--1cEMN')\n",
    "    for k in rating:\n",
    "        basic.append(k.text)\n",
    "    reviews = soup.find_all('span', class_ = 'statsNum--32OX2')\n",
    "    for kk in reviews:\n",
    "        basic.append(kk.text) \n",
    "        \n",
    "\n",
    "    driver.quit()\n",
    "print(basic)"
   ]
  },
  {
   "cell_type": "code",
   "execution_count": 169,
   "id": "false-baseline",
   "metadata": {},
   "outputs": [
    {
     "data": {
      "text/plain": [
       "['이재용', '법률', '손해배상', '교통사고', '형사사건', '평균 평점4.9', '715', '934']"
      ]
     },
     "execution_count": 169,
     "metadata": {},
     "output_type": "execute_result"
    }
   ],
   "source": [
    "basic"
   ]
  },
  {
   "cell_type": "code",
   "execution_count": null,
   "id": "directed-arlington",
   "metadata": {},
   "outputs": [],
   "source": []
  },
  {
   "cell_type": "code",
   "execution_count": null,
   "id": "latest-documentary",
   "metadata": {},
   "outputs": [],
   "source": []
  },
  {
   "cell_type": "markdown",
   "id": "higher-computer",
   "metadata": {},
   "source": [
    "# Projects"
   ]
  },
  {
   "cell_type": "code",
   "execution_count": 186,
   "id": "altered-association",
   "metadata": {
    "scrolled": true
   },
   "outputs": [
    {
     "data": {
      "text/plain": [
       "[<div class=\"listArea--peDdh\"><div class=\"item--1ZJSx\"><a class=\"itemCard--2Whvq ItemSmallThumbnail_itemCard--196nY productCard--1WjeX\" href=\"/mobile/expert/product/detail?storeId=100002042&amp;productId=100003754\"><div class=\"itemLink--2ljnw\"><div class=\"itemBox--3y657\"><div class=\"itemThumb--Ke4MS\"><div class=\"thumbnail--WbaVj\" style='background-image: url(\"https://phinf.pstatic.net/image.nmv/kin_2020_09_08_5/e2161813-f183-11ea-9635-246e963a4708_01.jpg\");'></div></div><div class=\"itemInfo--24tcX\"><div class=\"itemTitle--2vWBq elip2--nFWXY\">신속하고 정확한 형사사건 법률상담</div><div class=\"itemGroup--2RnIL ItemGroup_itemGroup--1f-on\"><div class=\"itemRating--360UA\"><span class=\"blind\">평균 평점</span><svg class=\"iconStar--2zx5M\" height=\"15\" viewbox=\"0 0 13 12\" width=\"15\"><path d=\"M6.5 9.75l-3.82 2.009.73-4.255L.317 4.491l4.272-.62L6.5 0l1.91 3.87 4.272.621L9.59 7.504l.73 4.255z\" fill=\"#4A65F6\" fill-rule=\"evenodd\"></path></svg>4.9</div><div class=\"itemCount--2HsJv\"><em class=\"countText--3Xuau\">후기</em><span class=\"countNum--dd_YP\">391</span></div></div><p class=\"introduce--22oBg elip2--nFWXY\"> ​ ​ 갑자기 휘말린 형사사건, 어렵고 막막하지 않으셨나요? ​ 경찰-검찰-재판단계로 이어지는 형사사건은 민사사건과는 달리 처벌과 형 집행의 문제 때문에 더욱 무게감이 있는 것이 사실입니다. 저는 14년 경력의 형사전문변호사로서 이러한 의뢰인분들의 고통에 공감하며 많은 사건을 해결해왔습니다. 어렵고 힘들게 느껴지는 형사사건을 저에게 알려주시면 명쾌하게 진단하여 쉽고 친절하게 설명해드리겠습니다. ​ 14년 경력 사시 출신 형사전문변호사 ​ ​ 형사사건은 크게 '가해자'와 '피해자' 두 가지 방향이 있습니다. • '피해자' 분을 상담할 때에는 당하신 피해를 어떻게 회복하고, 권리를 어떻게 더 적극적으로 실현할 것인지 초점을 맞추어 사건을 진행하게 됩니다. • '가해자' 분 입장에서 진행할 때에는 1) 억울하게 조사를 받게 되시는 분들의 경우에는 '무혐의', '무죄'판결을 받기 위해 사건을 진행하며, 2) 실제로 죄를 짓고 반성하는 사건의 경우에는 최대한 선처를 받으실 수 있도록 변호를 하게 됩니다. 법을 잘 모르고 잘못된 지식이 전달되어 더 높은 형량을 받게 되시는 분들이 없도록 최선을 다하고 있습니다. ​ ​ ​ ​ ​ ​ ​ ​ 01 24시간 맞춤형 1:1 상담 상담은 연중무휴 24시간 진행됩니다. 언제 어디서든 부담 없이 엑스퍼트로 1:1 상담을 진행하면서 상황에 맞게 답변을 해드릴 수 있습니다. ​ 02 엑스퍼트 상담 후 추가 상담 서비스 제공 상담 종료 후, 전화 및 채팅을 통해 설명이 부족한 부분을 보충해드립니다. (상담 종료 7일 이내) ​ 03 수임 계약 시 경찰,검찰 조사 변호사 동행 변호사가 수사에 참여하는 것과 아닌 것은 매우 많은 차이가 있습니다. 당사자분이 진술함에 있어서도 변호사가 옆에 있어야 정확한 진술이 쉬워지고, 진술이 잘못되거나 오해의 소지가 있는 진술의 경우 변호사가 의견을 개진하여 도움을 드릴 수 있습니다. 의뢰인분들께 조사에 변호사가 동행하는 것이 매우 큰 의미가 있기 때문에 모든 조사에 변호사가 참여하고 있습니다. ​ ​ ​ ​ 그 외 상담 가능 분야 - 성범죄 - 형사사건(폭행/협박, 사기, 보이스피싱, 공무집해방해, 긴급체포 및 구속영장 등) - 교통사고, 음주운전 - 명예훼손, 모욕죄 - 손해배상 - 행정소송(행정심판 및 행정소송 등) - 이혼(이혼소송, 위자료, 재산분할 등) ​ ​ 상담안내 엑스퍼트 상담 : 연중무휴 24시간 상담 가능 방문 상담 : 월~토 09:00 ~ 21:00 (예약필수) 방문 상담을 받고자 하시는 분은 미리 사전에 예약을 해주시기 바랍니다. ​ ​ 찾아오시는 길 JY 법률사무소 서울특별시 서초구 서초대로 254 오퓨런스빌딩 1401호 ​ </p></div></div><div class=\"itemPrice--cscFn ItemPrice_itemPrice--1dTfW alignCenter--2NQfI\"><span class=\"priceInner--1HE2v\"><span class=\"priceNum--1rXJI ItemPrice_priceNum--2OFHI\"><span class=\"blind\">판매가</span>10,000</span><span class=\"priceUnit--1k2uv ItemPrice_priceUnit--jfVRk\">원</span><em class=\"discountPercent--3n0bl\"><span class=\"blind\">할인률</span>75%</em><span class=\"beforeDiscount--W1C4G\"><span class=\"blind\">할인 전 가격</span>40,000</span></span><em class=\"buttonBuy--ObhUi\">구매하기</em></div></div></a></div><div class=\"item--1ZJSx\"><a class=\"itemCard--2Whvq ItemSmallThumbnail_itemCard--196nY productCard--1WjeX\" href=\"/mobile/expert/product/detail?storeId=100002042&amp;productId=100003807\"><div class=\"itemLink--2ljnw\"><div class=\"itemBox--3y657\"><div class=\"itemThumb--Ke4MS\"><div class=\"thumbnail--WbaVj\" style='background-image: url(\"https://kin-phinf.pstatic.net/20200525_232/1590413812581iwXFk_PNG/template_%EC%84%B8%EB%AC%B4_02.png?type=w750\");'></div></div><div class=\"itemInfo--24tcX\"><div class=\"itemTitle--2vWBq elip2--nFWXY\">성범죄 상담</div><div class=\"itemGroup--2RnIL ItemGroup_itemGroup--1f-on\"><div class=\"itemRating--360UA\"><span class=\"blind\">평균 평점</span><svg class=\"iconStar--2zx5M\" height=\"15\" viewbox=\"0 0 13 12\" width=\"15\"><path d=\"M6.5 9.75l-3.82 2.009.73-4.255L.317 4.491l4.272-.62L6.5 0l1.91 3.87 4.272.621L9.59 7.504l.73 4.255z\" fill=\"#4A65F6\" fill-rule=\"evenodd\"></path></svg>4.9</div><div class=\"itemCount--2HsJv\"><em class=\"countText--3Xuau\">후기</em><span class=\"countNum--dd_YP\">232</span></div></div><p class=\"introduce--22oBg elip2--nFWXY\"> JY법률사무소 대표 이재용 변호사입니다. 저는 14년 경력의 형사전문변호사로서 의뢰인들이 처한 법률적 문제의 고통에 공감하며 많은 사건을 해결해왔습니다. 성심성의껏 경청하고 의뢰인 한 분 한 분께 가장 최적의 해결책을 제공해드리는 든든한 조력자가 되겠습니다. ​ 14년 경력 사시 출신 형사전문변호사 ​ 형사사건은 크게 '가해자'와 '피해자' 두 가지 방향이 있습니다. • '피해자' 분을 상담할 때에는 당하신 피해를 어떻게 회복하고, 권리를 어떻게 더 적극적으로 실현할 것인지 초점을 맞추어 사건을 진행하게 됩니다. • '가해자' ​ 분 입장에서 진행할 때에는 1) 억울하게 조사를 받게 되시는 분들의 경우에는 '무혐의', '무죄'판결을 받기 위해 사건을 진행하며, 2) 실제로 죄를 짓고 반성하는 사건의 경우에는 최대한 선처를 받으실 수 있도록 변호를 하게 됩니다. 법을 잘 모르고 잘못된 지식이 전달되어 더 높은 형량을 받게 되시는 분들이 없도록 최선을 다하고 있습니다. ​ ​ 제가 생각하는 '좋은 변호사'는 '마음의 병'을 치유하는 변호사입니다. 지난 13년간 여러 사건을 진행하며 재판의 결과가 좋아도 마음의 상처가 제대로 치유되지 못하면 만족하지 못하시는 의뢰인분들을 많이 보았습니다. 그 과정에서 재판의 결과만큼이나 사건에서 발생한 의뢰인의 상처를 치유하는 것이 매우 중요하다는 것을 깨달았고 변호사의 역할이 단지 사건을 해결하는 것뿐만 아니라 의뢰인의 상처를 회복할 수 있도록 돕는 것이라고 생각하게 되었습니다. 이러한 마음가짐으로 모든 의뢰인분들의 이야기에 경청하며 한 분 한 분께 가장 최적의 해결책을 제공해드리는 든든한 조력자가 되겠습니다. ​ ​ ​ 성범죄 상담 소개 최근 텔레그램N번방 사건으로 인해 문제가 된 아청법 음란물소지, 제작죄 뿐만 아니라 강제추행/준강제추행, 강간/준강간, 카메라등이용촬영죄(몰카), 성매매 등 성범죄 전반에 대한 상담을 받으실 수 있습니다. 성범죄의 경우 일반적인 형사사건과는 달리 형 집행 뿐만 아니라 신상정보등록 및 공개고지, 취업제한이라는 처분이 뒤따르고, 피해자의 진술만으로도 처벌이 가능하다는 특수성이 있습니다. 이러한 특수성에 대한 이해 및 성범죄 형사절차의 풍부한 실무 경험을 바탕으로 정확한 진단과 솔루션을 제공해드립니다. ​ 성범죄의 특수성을 고려한 사건 진단 및 솔루션 제공 ​ 성범죄 종류 • 성추행 : 강제추행, 준강제추행, 특수강제추행, 특수준강제추행, 친족관계에 의한 강제추행, 장애인 강제추행, 미성년자 성추행, 업무상위력에의한추행 등 • 성폭행 : 강간, 유사강간, 준강간, 특수강간, 강간상해/치상, 친족관계에 의한 강간, 업무상위력에의한 간음 등 • 성매매 : 성매매특례법 위반, 성매수, 유사성행위, 성매매알선, 성매매사기 등 • 아청법 : 아동청소년의성보호에관한법률(아청법) 위반, 텔레그램N번방 사건 관련(N번방 방지법), 아동청소년이용음란물(아청물)의 제작/배포(유포)/소지 등, 아동청소년 성착취물, 아청물 시청/스트리밍, 아청법개정안 • 몰카(도촬) : 카메라등이용촬영죄, 불법촬영 동영상유포협박, 음란물유포죄, • 기타 성범죄 : 공중밀집장소추행(지하철성추행), 성적목적다중이용장소침입죄, 통신매체이용음란행위, 공연음란죄, 디지털성범죄, 주거침입성범죄, 군인성범죄, 동성성범죄, 몸캠피싱, 꽃뱀사기, 데이트성폭행 등 • 신상정보등록/공개 : 신상정보등록, 신상정보공개고지, 신상정보제출의무, 전자발찌 •취업제한 : 교육기관 취업제한, 공무원 취업제한, 성범죄경력조회 등 ​ ​ ​ 01 24시간 맞춤형 1:1 상담 상담은 연중무휴 24시간 진행됩니다. 언제 어디서든 부담 없이 엑스퍼트로 1:1 상담을 진행하면서 상황에 맞게 답변을 해드릴 수 있습니다. ​ 02 엑스퍼트 상담 후 추가 상담 서비스 제공 상담 종료 후, 전화 및 채팅을 통해 설명이 부족한 부분을 보충해드립니다. (상담 종료 7일 이내) ​ 03 수임 계약 시 경찰,검찰 조사 변호사 동행 변호사가 수사에 참여하는 것과 아닌 것은 매우 많은 차이가 있습니다. 당사자분이 진술함에 있어서도 변호사가 옆에 있어야 정확한 진술이 쉬워지고, 진술이 잘못되거나 오해의 소지가 있는 진술의 경우 변호사가 의견을 개진하여 도움을 드릴 수 있습니다. 의뢰인분들께 조사에 변호사가 동행하는 것이 매우 큰 의미가 있기 때문에 모든 조사에 변호사가 참여하고 있습니다. ​ ​ ​ 그 외 상담 가능 분야 - 형사사건(폭행/협박, 사기, 보이스피싱, 공무집해방해, 체포/구속 등) - 교통사고, 음주운전 - 명예훼손, 모욕죄 - 손해배상 등 ​ 상담안내 엑스퍼트 상담 : 연중무휴 24시간 상담 가능 방문 상담 : 월~토 09:00 ~ 21:00 (예약필수) 방문 상담을 받고자 하시는 분은 미리 사전에 예약을 해주시기 바랍니다. ​ ​ 찾아오시는 길 JY 법률사무소 서울특별시 서초구 서초대로 254 오퓨런스빌딩 1401호 ​ </p></div></div><div class=\"itemPrice--cscFn ItemPrice_itemPrice--1dTfW alignCenter--2NQfI\"><span class=\"priceInner--1HE2v\"><span class=\"priceNum--1rXJI ItemPrice_priceNum--2OFHI\"><span class=\"blind\">판매가</span>10,000</span><span class=\"priceUnit--1k2uv ItemPrice_priceUnit--jfVRk\">원</span><em class=\"discountPercent--3n0bl\"><span class=\"blind\">할인률</span>75%</em><span class=\"beforeDiscount--W1C4G\"><span class=\"blind\">할인 전 가격</span>40,000</span></span><em class=\"buttonBuy--ObhUi\">구매하기</em></div></div></a></div><div class=\"item--1ZJSx\"><a class=\"itemCard--2Whvq ItemSmallThumbnail_itemCard--196nY productCard--1WjeX\" href=\"/mobile/expert/product/detail?storeId=100002042&amp;productId=100003760\"><div class=\"itemLink--2ljnw\"><div class=\"itemBox--3y657\"><div class=\"itemThumb--Ke4MS\"><div class=\"thumbnail--WbaVj\" style='background-image: url(\"https://phinf.pstatic.net/image.nmv/kin_2020_09_08_11/4361285b-f180-11ea-bdfe-505dac8c35ff_01.jpg\");'></div></div><div class=\"itemInfo--24tcX\"><div class=\"itemTitle--2vWBq elip2--nFWXY\">명쾌하고 꼼꼼한 20분 심층 전화상담</div><div class=\"itemGroup--2RnIL ItemGroup_itemGroup--1f-on\"><div class=\"itemRating--360UA\"><span class=\"blind\">평균 평점</span><svg class=\"iconStar--2zx5M\" height=\"15\" viewbox=\"0 0 13 12\" width=\"15\"><path d=\"M6.5 9.75l-3.82 2.009.73-4.255L.317 4.491l4.272-.62L6.5 0l1.91 3.87 4.272.621L9.59 7.504l.73 4.255z\" fill=\"#4A65F6\" fill-rule=\"evenodd\"></path></svg>4.8</div><div class=\"itemCount--2HsJv\"><em class=\"countText--3Xuau\">후기</em><span class=\"countNum--dd_YP\">92</span></div></div><p class=\"introduce--22oBg elip2--nFWXY\"> JY법률사무소 대표 이재용 변호사입니다. 저는 14년 경력의 형사전문변호사로서 의뢰인들이 처한 법률적 문제의 고통에 공감하며 많은 사건을 해결해왔습니다. 성심성의껏 경청하고 의뢰인 한 분 한 분께 가장 최적의 해결책을 제공해드리는 든든한 조력자가 되겠습니다. ​ 14년 경력 사시 출신 형사전문변호사 ​ 최적화 된 맞춤형 솔루션 사건의 난이도와 복잡성에 따라 10분 기본상담보다 더 심층적인 상담이 필요하신 경우 20분 심층 전화상담을 추천드립니다. 의뢰인분들이 처해있는 상황에 따라 사건의 난이도 및 사실관계의 복잡성 은 매우 달라집니다. 이런 경우 천편일률적인 법률 솔루션보다는 각각의 의뢰인분들이 처한 상황에서 최선의 결과를 가져올 수 있는 해결책을 제시 하는 것이 진정 실력있는 전문가라고 할 수 있습니다. 십여년간 많은 의뢰인분들을 상담하고 최선의 해결책을 제공해 온 경험을 바탕으로 성심성의껏 경청하는 든든한 조력자가 되겠습니다. ​ ​ ​ ​ ​ ​ ​ ​ 01 24시간 맞춤형 1:1 상담 상담은 연중무휴 24시간 진행됩니다. 언제 어디서든 부담 없이 엑스퍼트로 1:1 상담을 진행하면서 상황에 맞게 답변을 해드릴 수 있습니다. ​ 02 엑스퍼트 상담 후 추가 상담 서비스 제공 상담 종료 후, 전화 및 채팅을 통해 설명이 부족한 부분을 보충해드립니다. (상담 종료 7일 이내) ​ 03 수임 계약 시 경찰,검찰 조사 변호사 동행 변호사가 수사에 참여하는 것과 아닌 것은 매우 많은 차이가 있습니다. 당사자분이 진술함에 있어서도 변호사가 옆에 있어야 정확한 진술이 쉬워지고, 진술이 잘못되거나 오해의 소지가 있는 진술의 경우 변호사가 의견을 개진하여 도움을 드릴 수 있습니다. 의뢰인분들께 조사에 변호사가 동행하는 것이 매우 큰 의미가 있기 때문에 모든 조사에 변호사가 참여하고 있습니다. ​ ​ ​ 상담 가능 분야 ​ - 성범죄 - 형사사건(폭행/협박, 사기, 보이스피싱, 공무집해방해, 긴급체포 및 구속영장 등) - 교통사고, 음주운전 - 명예훼손, 모욕죄 - 손해배상 - 행정소송(행정심판 및 행정소송 등) - 이혼(이혼소송, 위자료, 재산분할) ​ ​ ​ ​ 상담안내 엑스퍼트 상담 : 연중무휴 24시간 상담 가능 방문 상담 : 월~토 09:00 ~ 21:00 (예약필수) 방문 상담을 받고자 하시는 분은 미리 사전에 예약을 해주시기 바랍니다. ​ ​ ​ 찾아오시는 길 JY 법률사무소 서울특별시 서초구 서초대로 254 오퓨런스빌딩 1401호 ​ </p></div></div><div class=\"itemPrice--cscFn ItemPrice_itemPrice--1dTfW alignCenter--2NQfI\"><span class=\"priceInner--1HE2v\"><span class=\"priceNum--1rXJI ItemPrice_priceNum--2OFHI\"><span class=\"blind\">판매가</span>20,000</span><span class=\"priceUnit--1k2uv ItemPrice_priceUnit--jfVRk\">원</span><em class=\"discountPercent--3n0bl\"><span class=\"blind\">할인률</span>60%</em><span class=\"beforeDiscount--W1C4G\"><span class=\"blind\">할인 전 가격</span>50,000</span></span><em class=\"buttonBuy--ObhUi\">구매하기</em></div></div></a></div></div>]"
      ]
     },
     "execution_count": 186,
     "metadata": {},
     "output_type": "execute_result"
    }
   ],
   "source": [
    "projects = soup.find_all('div', class_ = 'listArea--peDdh')\n",
    "projects"
   ]
  },
  {
   "cell_type": "code",
   "execution_count": 189,
   "id": "turkish-neighborhood",
   "metadata": {},
   "outputs": [],
   "source": [
    "### Project data for one user\n",
    "projects = soup.find_all('div', class_ = 'listArea--peDdh')\n",
    "\n",
    "all_projects = []\n",
    "for y in projects:\n",
    "    yy = y.find_all('div', class_ = 'item--1ZJSx')\n",
    "    for t in yy:\n",
    "        project_item = []\n",
    "        tdiv = t.find_all('div', class_ =['itemTitle--2vWBq','elip2--nFWXY'])\n",
    "        for td in tdiv:\n",
    "            project_title = td.text\n",
    "            project_item.append(project_title)\n",
    "            \n",
    "        ratdiv = t.find_all('div', class_ =['itemGroup--2RnIL','ItemGroup_itemGroup--1f-on'])\n",
    "        for rd in ratdiv:\n",
    "            rating = rd.text\n",
    "            project_item.append(rating)\n",
    "            \n",
    "        feediv = t.find_all('span', class_ ='priceInner--1HE2v')\n",
    "        for fd in feediv:\n",
    "            fee = fd.text\n",
    "            project_item.append(fee)\n",
    "        \n",
    "        all_projects.append(project_item)"
   ]
  },
  {
   "cell_type": "code",
   "execution_count": 188,
   "id": "stylish-monster",
   "metadata": {},
   "outputs": [
    {
     "data": {
      "text/plain": [
       "[['신속하고 정확한 형사사건 법률상담', '평균 평점4.9후기391', '판매가10,000원할인률75%할인 전 가격40,000'],\n",
       " ['성범죄 상담', '평균 평점4.9후기232', '판매가10,000원할인률75%할인 전 가격40,000'],\n",
       " ['명쾌하고 꼼꼼한 20분 심층 전화상담', '평균 평점4.8후기92', '판매가20,000원할인률60%할인 전 가격50,000']]"
      ]
     },
     "execution_count": 188,
     "metadata": {},
     "output_type": "execute_result"
    }
   ],
   "source": [
    "all_projects"
   ]
  },
  {
   "cell_type": "code",
   "execution_count": 160,
   "id": "increased-ethnic",
   "metadata": {
    "scrolled": true
   },
   "outputs": [
    {
     "data": {
      "text/plain": [
       "['평균 평점4.9 391',\n",
       " ' 10,000원할인률75%할인 전 가격40,000',\n",
       " '판매가10,000원할인률75% 40,000',\n",
       " '평균 평점4.9 232',\n",
       " ' 10,000원할인률75%할인 전 가격40,000',\n",
       " '판매가10,000원할인률75% 40,000',\n",
       " '평균 평점4.8 92',\n",
       " ' 20,000원할인률60%할인 전 가격50,000',\n",
       " '판매가20,000원할인률60% 50,000']"
      ]
     },
     "execution_count": 160,
     "metadata": {},
     "output_type": "execute_result"
    }
   ],
   "source": [
    "temp = []\n",
    "\n",
    "for item in all_projects:\n",
    "    for i in item:\n",
    "        hh = [\"평균평점\",\"후기\",\"판매가\",\"원할인률\",\"원할인률-\", \"할인 전 가격\"]\n",
    "        for yt in hh:\n",
    "            if yt in i:\n",
    "                temp.append(i.replace(yt ,\" \"))\n",
    "\n",
    "temp"
   ]
  },
  {
   "cell_type": "code",
   "execution_count": null,
   "id": "waiting-smell",
   "metadata": {},
   "outputs": [],
   "source": []
  },
  {
   "cell_type": "code",
   "execution_count": null,
   "id": "monetary-candy",
   "metadata": {},
   "outputs": [],
   "source": []
  },
  {
   "cell_type": "code",
   "execution_count": null,
   "id": "superb-building",
   "metadata": {},
   "outputs": [],
   "source": []
  },
  {
   "cell_type": "code",
   "execution_count": 113,
   "id": "automatic-transsexual",
   "metadata": {},
   "outputs": [
    {
     "name": "stdout",
     "output_type": "stream",
     "text": [
      "명쾌하고 꼼꼼한 20분 심층 전화상담\n",
      "True\n",
      "평균 평점4.8후기92\n",
      "False\n",
      "판매가20,000원할인률60%할인 전 가격50,000\n",
      "False\n"
     ]
    }
   ],
   "source": [
    "for item in project_item:\n",
    "    print(\"명쾌하고\" in item)"
   ]
  },
  {
   "cell_type": "code",
   "execution_count": null,
   "id": "responsible-inventory",
   "metadata": {},
   "outputs": [],
   "source": []
  },
  {
   "cell_type": "code",
   "execution_count": null,
   "id": "round-means",
   "metadata": {},
   "outputs": [],
   "source": []
  },
  {
   "cell_type": "code",
   "execution_count": null,
   "id": "solar-custody",
   "metadata": {},
   "outputs": [],
   "source": []
  },
  {
   "cell_type": "code",
   "execution_count": null,
   "id": "sharing-confidence",
   "metadata": {},
   "outputs": [],
   "source": []
  },
  {
   "cell_type": "markdown",
   "id": "charitable-checklist",
   "metadata": {},
   "source": [
    "# product and review number"
   ]
  },
  {
   "cell_type": "code",
   "execution_count": 204,
   "id": "sustained-marketing",
   "metadata": {},
   "outputs": [
    {
     "name": "stdout",
     "output_type": "stream",
     "text": [
      "3\n",
      "715\n"
     ]
    },
    {
     "data": {
      "text/plain": [
       "['3', '715']"
      ]
     },
     "execution_count": 204,
     "metadata": {},
     "output_type": "execute_result"
    }
   ],
   "source": [
    "products = []\n",
    "\n",
    "tt = soup.find_all('div', class_ = \"list--e6w5E\")\n",
    "for t in tt:  \n",
    "    cc = t.find_all('div', class_='count--2w5o6')\n",
    "    for cd in cc:\n",
    "        cd.find_all('div', class_ = \"count--2w5o6\")\n",
    "        ce = cd.text\n",
    "        print(ce)\n",
    "        products.append(ce)\n",
    "products"
   ]
  },
  {
   "cell_type": "code",
   "execution_count": null,
   "id": "sexual-feature",
   "metadata": {},
   "outputs": [],
   "source": []
  },
  {
   "cell_type": "markdown",
   "id": "apart-bunny",
   "metadata": {},
   "source": [
    "# Seller main information"
   ]
  },
  {
   "cell_type": "code",
   "execution_count": 98,
   "id": "extreme-worker",
   "metadata": {},
   "outputs": [
    {
     "data": {
      "text/plain": [
       "['이재용',\n",
       " 'JY법률사무소',\n",
       " '128-32-34769',\n",
       " '',\n",
       " '(우:06647) 서울특별시 서초구 서초대로 254 (서초동, 오퓨런스) 14층',\n",
       " '025824833',\n",
       " 'wjdgml1278@naver.com']"
      ]
     },
     "execution_count": 98,
     "metadata": {},
     "output_type": "execute_result"
    }
   ],
   "source": [
    "### Project data for one user\n",
    "maininfo = []\n",
    "infos = soup.find_all('ul', class_ = 'productInfoList--1-H-D')\n",
    "for f in infos:   \n",
    "    li = f.find_all('li')\n",
    "    for ll in li:\n",
    "        uh = [\"대표자\",\"상호명\",\"사업자등록번호\",\"통신판매업번호-\", \"사업장 주소\", \"고객센터\",'메일']\n",
    "        for u in range(len(uh)):\n",
    "            if uh[u] in ll.text:\n",
    "                b = uh[u]\n",
    "                la = ll.text\n",
    "                maininfo.append(la.replace(b , \"\"))   \n",
    "maininfo"
   ]
  },
  {
   "cell_type": "code",
   "execution_count": null,
   "id": "moderate-measurement",
   "metadata": {},
   "outputs": [],
   "source": []
  },
  {
   "cell_type": "code",
   "execution_count": null,
   "id": "exclusive-spine",
   "metadata": {},
   "outputs": [],
   "source": []
  },
  {
   "cell_type": "code",
   "execution_count": null,
   "id": "intellectual-identification",
   "metadata": {},
   "outputs": [],
   "source": []
  },
  {
   "cell_type": "markdown",
   "id": "convinced-price",
   "metadata": {},
   "source": [
    "# Reviews"
   ]
  },
  {
   "cell_type": "code",
   "execution_count": 375,
   "id": "dried-bleeding",
   "metadata": {},
   "outputs": [
    {
     "name": "stdout",
     "output_type": "stream",
     "text": [
      "<a class=\"titleLink--2BV8L\" href=\"/mobile/expert/product/list?storeId=100002042\"><span class=\"linkText--Nm8Me\">3개의 상품 더보기</span><svg class=\"iconCircleArrow--oYTT-\" height=\"18\" viewbox=\"0 0 20 20\" width=\"18\"><g fill=\"none\" fill-rule=\"evenodd\"><circle cx=\"10\" cy=\"10\" r=\"9.5\" stroke=\"#DBDBDB\"></circle><path d=\"M6.5 10h6M11 7l3 3-3 3\" stroke=\"#7E96FF\" stroke-linecap=\"round\" stroke-linejoin=\"round\" stroke-width=\"1.5\"></path></g></svg></a>\n",
      "<a class=\"titleLink--2BV8L\" href=\"/mobile/expert/product/list?storeId=100002042\"><span class=\"linkText--Nm8Me\">더보기</span><svg class=\"iconCircleArrow--oYTT-\" height=\"18\" viewbox=\"0 0 20 20\" width=\"18\"><g fill=\"none\" fill-rule=\"evenodd\"><circle cx=\"10\" cy=\"10\" r=\"9.5\" stroke=\"#DBDBDB\"></circle><path d=\"M6.5 10h6M11 7l3 3-3 3\" stroke=\"#7E96FF\" stroke-linecap=\"round\" stroke-linejoin=\"round\" stroke-width=\"1.5\"></path></g></svg></a>\n",
      "<a class=\"titleLink--2BV8L\" href=\"/mobile/expert/review/list?u=zvRvZSrTBCeYUJjRbEc5OKhzAkyWWga1TYilww4ty7Y%3D\"><span class=\"linkText--Nm8Me\">더보기</span><svg class=\"iconCircleArrow--oYTT-\" height=\"18\" viewbox=\"0 0 20 20\" width=\"18\"><g fill=\"none\" fill-rule=\"evenodd\"><circle cx=\"10\" cy=\"10\" r=\"9.5\" stroke=\"#DBDBDB\"></circle><path d=\"M6.5 10h6M11 7l3 3-3 3\" stroke=\"#7E96FF\" stroke-linecap=\"round\" stroke-linejoin=\"round\" stroke-width=\"1.5\"></path></g></svg></a>\n",
      "<a class=\"titleLink--2BV8L\" href=\"/mobile/profile/answers?u=zvRvZSrTBCeYUJjRbEc5OKhzAkyWWga1TYilww4ty7Y%3D\"><span class=\"linkText--Nm8Me\">더보기</span><svg class=\"iconCircleArrow--oYTT-\" height=\"18\" viewbox=\"0 0 20 20\" width=\"18\"><g fill=\"none\" fill-rule=\"evenodd\"><circle cx=\"10\" cy=\"10\" r=\"9.5\" stroke=\"#DBDBDB\"></circle><path d=\"M6.5 10h6M11 7l3 3-3 3\" stroke=\"#7E96FF\" stroke-linecap=\"round\" stroke-linejoin=\"round\" stroke-width=\"1.5\"></path></g></svg></a>\n"
     ]
    }
   ],
   "source": [
    "### review data for one user\n",
    "rdiv = soup.find_all('div', class_ = ['titleSection--1lnfz','SubTitle_titleSection--2YQaq'])\n",
    "for i in rdiv:\n",
    "    ii = i.find_all('div', class_ = \"titleArea--s3-rN\")\n",
    "    for each in ii:\n",
    "        ai = each.find_all('a', class_ = \"titleLink--2BV8L\")\n",
    "        for a in ai:\n",
    "            print(a)\n",
    "       "
   ]
  },
  {
   "cell_type": "code",
   "execution_count": null,
   "id": "common-revelation",
   "metadata": {},
   "outputs": [],
   "source": []
  },
  {
   "cell_type": "code",
   "execution_count": 376,
   "id": "inappropriate-coordinator",
   "metadata": {},
   "outputs": [],
   "source": [
    "rdiv = soup.find_all('div', class_ = \"listSection--kViCl\")\n",
    "reviews_rating = []\n",
    "reviews_heading = []\n",
    "reviews_text = []\n",
    "\n",
    "for eachr in rdiv:\n",
    "    ee = eachr.find_all('div', class_ = \"reviewItem--1OwNO\")\n",
    "    for each in ee:\n",
    "        rating = each.find_all('div', class_ = [\"expertPoint--2Zrvr\",\"expertPoint--13H3V\"])\n",
    "        for r in rating:\n",
    "            reviews_rating.append(r.text)\n",
    "            \n",
    "        head = each.find_all('div', class_ = \"reviewTitle--qv3Pk\")\n",
    "        for r in head:\n",
    "            reviews_heading.append(r.text)\n",
    "\n",
    "        commentdiv = each.find_all('p', class_ = \"reviewText--28mzN\")\n",
    "        for ecom in commentdiv:\n",
    "            reviews_text.append(ecom.text)\n",
    "            \n",
    "review_obj = []\n",
    "\n",
    "for i in range(len(reviews_heading)):\n",
    "    review_obj.append(reviews_heading[i])\n",
    "    review_obj.append(reviews_rating[i])\n",
    "    review_obj.append(reviews_text[i])\n"
   ]
  },
  {
   "cell_type": "code",
   "execution_count": 377,
   "id": "entertaining-queens",
   "metadata": {},
   "outputs": [
    {
     "data": {
      "text/plain": [
       "['평점5', '평점5', '평점5']"
      ]
     },
     "execution_count": 377,
     "metadata": {},
     "output_type": "execute_result"
    }
   ],
   "source": [
    "reviews_rating"
   ]
  },
  {
   "cell_type": "code",
   "execution_count": 378,
   "id": "robust-population",
   "metadata": {},
   "outputs": [
    {
     "data": {
      "text/plain": [
       "['성범죄 상담', '성범죄 상담', '성범죄 상담']"
      ]
     },
     "execution_count": 378,
     "metadata": {},
     "output_type": "execute_result"
    }
   ],
   "source": [
    "reviews_heading"
   ]
  },
  {
   "cell_type": "code",
   "execution_count": 379,
   "id": "assured-future",
   "metadata": {},
   "outputs": [
    {
     "data": {
      "text/plain": [
       "['늦은시간에다 억울함에 말도 더듬게 되고 화가 치밀어오르는데 차분하게 이야기 들어주시고 상담해주셔서 감사합니다 정말 억울한 상황 풀고 싶습니다 감사합니다',\n",
       " '늦은시간에 상담감사합니다 ',\n",
       " '빠르게 제가 궁금한 부분에 대해서 설명해주십니다!']"
      ]
     },
     "execution_count": 379,
     "metadata": {},
     "output_type": "execute_result"
    }
   ],
   "source": [
    "reviews_text"
   ]
  },
  {
   "cell_type": "code",
   "execution_count": 380,
   "id": "built-desperate",
   "metadata": {},
   "outputs": [],
   "source": [
    "review_obj = []\n",
    "\n",
    "for i in range(len(reviews_heading)):\n",
    "    review_obj.append(reviews_heading[i])\n",
    "    review_obj.append(reviews_rating[i])\n",
    "    review_obj.append(reviews_text[i])"
   ]
  },
  {
   "cell_type": "code",
   "execution_count": 381,
   "id": "fitting-illustration",
   "metadata": {},
   "outputs": [
    {
     "data": {
      "text/plain": [
       "['성범죄 상담',\n",
       " '평점5',\n",
       " '늦은시간에다 억울함에 말도 더듬게 되고 화가 치밀어오르는데 차분하게 이야기 들어주시고 상담해주셔서 감사합니다 정말 억울한 상황 풀고 싶습니다 감사합니다',\n",
       " '성범죄 상담',\n",
       " '평점5',\n",
       " '늦은시간에 상담감사합니다 ',\n",
       " '성범죄 상담',\n",
       " '평점5',\n",
       " '빠르게 제가 궁금한 부분에 대해서 설명해주십니다!']"
      ]
     },
     "execution_count": 381,
     "metadata": {},
     "output_type": "execute_result"
    }
   ],
   "source": [
    "review_obj"
   ]
  },
  {
   "cell_type": "code",
   "execution_count": null,
   "id": "magnetic-repair",
   "metadata": {},
   "outputs": [],
   "source": []
  },
  {
   "cell_type": "code",
   "execution_count": null,
   "id": "popular-turning",
   "metadata": {},
   "outputs": [],
   "source": []
  },
  {
   "cell_type": "code",
   "execution_count": null,
   "id": "introductory-azerbaijan",
   "metadata": {},
   "outputs": [],
   "source": []
  },
  {
   "cell_type": "code",
   "execution_count": null,
   "id": "applied-occasion",
   "metadata": {},
   "outputs": [],
   "source": []
  },
  {
   "cell_type": "code",
   "execution_count": null,
   "id": "secondary-paris",
   "metadata": {},
   "outputs": [],
   "source": []
  }
 ],
 "metadata": {
  "kernelspec": {
   "display_name": "Python 3",
   "language": "python",
   "name": "python3"
  },
  "language_info": {
   "codemirror_mode": {
    "name": "ipython",
    "version": 3
   },
   "file_extension": ".py",
   "mimetype": "text/x-python",
   "name": "python",
   "nbconvert_exporter": "python",
   "pygments_lexer": "ipython3",
   "version": "3.8.6"
  }
 },
 "nbformat": 4,
 "nbformat_minor": 5
}
